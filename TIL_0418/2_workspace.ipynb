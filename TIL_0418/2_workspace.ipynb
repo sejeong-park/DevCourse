{
 "cells": [
  {
   "cell_type": "markdown",
   "id": "a7016c7b",
   "metadata": {},
   "source": [
    "### Request 라이브러리\n",
    "* `requests` 는 파이썬을 이용해 HTTP 통신을 진행할 수 있는 라이브러리\n",
    "* `%` 를 이용해서 주피터 노트북 환경에서 터미널 코드 실행 가능      "
   ]
  },
  {
   "cell_type": "code",
   "execution_count": 2,
   "id": "6a044349",
   "metadata": {},
   "outputs": [
    {
     "name": "stdout",
     "output_type": "stream",
     "text": [
      "Requirement already satisfied: requests in /Users/sj.park/opt/anaconda3/lib/python3.9/site-packages (2.28.1)\n",
      "Requirement already satisfied: certifi>=2017.4.17 in /Users/sj.park/opt/anaconda3/lib/python3.9/site-packages (from requests) (2022.9.24)\n",
      "Requirement already satisfied: charset-normalizer<3,>=2 in /Users/sj.park/opt/anaconda3/lib/python3.9/site-packages (from requests) (2.0.4)\n",
      "Requirement already satisfied: idna<4,>=2.5 in /Users/sj.park/opt/anaconda3/lib/python3.9/site-packages (from requests) (3.3)\n",
      "Requirement already satisfied: urllib3<1.27,>=1.21.1 in /Users/sj.park/opt/anaconda3/lib/python3.9/site-packages (from requests) (1.26.11)\n",
      "Note: you may need to restart the kernel to use updated packages.\n"
     ]
    }
   ],
   "source": [
    "%pip install requests\n"
   ]
  },
  {
   "cell_type": "markdown",
   "id": "861607b4",
   "metadata": {},
   "source": [
    "### 정보를 달라고 요청하기, GET"
   ]
  },
  {
   "cell_type": "code",
   "execution_count": 5,
   "id": "6b42cbf0",
   "metadata": {},
   "outputs": [
    {
     "data": {
      "text/plain": [
       "<Response [200]>"
      ]
     },
     "execution_count": 5,
     "metadata": {},
     "output_type": "execute_result"
    }
   ],
   "source": [
    "# requests 라이브러리를 불러온 후, NAVER의 홈페이지를 요청한 후 응답 받기\n",
    "import requests\n",
    "\n",
    "res = requests.get(\"https://www.naver.com\")\n",
    "\n",
    "res # HTTP응답 & 객체"
   ]
  },
  {
   "cell_type": "code",
   "execution_count": 6,
   "id": "57594359",
   "metadata": {},
   "outputs": [
    {
     "data": {
      "text/plain": [
       "{'Server': 'NWS', 'Date': 'Tue, 18 Apr 2023 05:49:31 GMT', 'Content-Type': 'text/html; charset=UTF-8', 'Transfer-Encoding': 'chunked', 'Connection': 'keep-alive', 'Set-Cookie': 'PM_CK_loc=ba9ff3cefefe70d1cb714576a204e2790d433f8d8391a42fcbbbd487ab094ae7; Expires=Wed, 19 Apr 2023 05:49:31 GMT; Path=/; HttpOnly', 'Cache-Control': 'no-cache, no-store, must-revalidate', 'Pragma': 'no-cache', 'P3P': 'CP=\"CAO DSP CURa ADMa TAIa PSAa OUR LAW STP PHY ONL UNI PUR FIN COM NAV INT DEM STA PRE\"', 'X-Frame-Options': 'DENY', 'X-XSS-Protection': '1; mode=block', 'Content-Encoding': 'gzip', 'Strict-Transport-Security': 'max-age=63072000; includeSubdomains', 'Referrer-Policy': 'unsafe-url'}"
      ]
     },
     "execution_count": 6,
     "metadata": {},
     "output_type": "execute_result"
    }
   ],
   "source": [
    "# Header를 확인 : .headers\n",
    "\n",
    "res.headers"
   ]
  },
  {
   "cell_type": "code",
   "execution_count": 8,
   "id": "81581cd7",
   "metadata": {},
   "outputs": [
    {
     "data": {
      "text/plain": [
       "'\\n<!doctype html>                          <html lang=\"ko\" data-dark=\"false\"> <head> <meta charset=\"utf-8\"> <title>NAVER</title> <meta http-equiv=\"X-UA-Compatible\" content=\"IE=edge\"> <meta name=\"viewport\" content=\"width=1190\"> <meta name=\"apple-mobile-web-app-title\" content=\"NAVER\"/> <meta name=\"robots\" content=\"index,nofollow\"/> <meta name=\"description\" content=\"네이버 메인에서 다양한 정보와 유용한 컨텐츠를 만나 보세요\"/> <meta property=\"og:title\" content=\"네이버\"> <meta property=\"og:url\" content=\"https://www.naver.com/\"> <meta property=\"og:image\" content=\"https://s.pstatic.net/static/www/mobile/edit/2016/0705/mobile_212852414260.png\"> <meta property=\"og:description\" content=\"네이버 메인에서 다양한 정보와 유용한 컨텐츠를 만나 보세요\"/> <meta name=\"twitter:card\" content=\"summary\"> <meta name=\"twitter:title\" content=\"\"> <meta name=\"twitter:url\" content=\"https://www.naver.com/\"> <meta name=\"twitter:image\" content=\"https://s.pstatic.net/static/www/mobile/edit/2016/0705/mobile_212852414260.png\"> <meta name=\"twitter:description\" content=\"네이버 메'"
      ]
     },
     "execution_count": 8,
     "metadata": {},
     "output_type": "execute_result"
    }
   ],
   "source": [
    "# Body를 확인 : .Text\n",
    "\n",
    "res.text[:1000] # 정보가 굉장히 많음"
   ]
  },
  {
   "cell_type": "markdown",
   "id": "8c3224a0",
   "metadata": {},
   "source": [
    "### 정보를 갱신하는 것을 요청하기 : POST\n",
    "\n",
    "* 우리는 정보를 제공해주면서, 서버로 하여금 무언가 요청을 진행할 때 존재\n",
    "* 우리가 매일 진행하는 로그인 !\n",
    "\n",
    "* 이러한 요청을 처리하는 HTTP Method = POST\n",
    "\n",
    "* 사용 사이트 : https://webhook.site"
   ]
  },
  {
   "cell_type": "code",
   "execution_count": 9,
   "id": "1e623ea1",
   "metadata": {},
   "outputs": [
    {
     "data": {
      "text/plain": [
       "<Response [200]>"
      ]
     },
     "execution_count": 9,
     "metadata": {},
     "output_type": "execute_result"
    }
   ],
   "source": [
    "# payload와 함께 POST 보내기\n",
    "\n",
    "payload = {\"name\" : \"sj.park\", \"age\" : 26}\n",
    "res = requests.post(\"https://webhook.site/bc749caf-8f36-4ecd-9f51-c6b8c7ff2781\", payload)"
   ]
  },
  {
   "cell_type": "code",
   "execution_count": 10,
   "id": "b259c3c2",
   "metadata": {},
   "outputs": [
    {
     "data": {
      "text/plain": [
       "200"
      ]
     },
     "execution_count": 10,
     "metadata": {},
     "output_type": "execute_result"
    }
   ],
   "source": [
    "# 상태코드를 확인해보자. : .status_code\n",
    "\n",
    "res.status_code"
   ]
  },
  {
   "cell_type": "markdown",
   "id": "b30df18a",
   "metadata": {},
   "source": [
    "## 1-4 윤리적으로 웹 스크래핑 / 크롤링 진행하기\n",
    "\n",
    "### robots.txt\n",
    "* 웹 사이트 및 웹 페이지를 수지하는 로봇들의 무단 접근을 방지하기 위해 만들어진 로봇 배제 표준 권고안\n",
    "\n",
    "일부 스팸 봇이나 악성 목적 -> 가짜 클라이언트 로봇은 웹사이트에 진짜 클라이언트 처럼 접근\n",
    "무단으로 웹 사이트 정보를 긁어가거나, 웹서버에 부하를 준다.\n",
    "\n",
    "이런 로봇들의 무분별한 접근을 통제하기 위해 마련된 것  : robots.txt\n",
    "가끔 웹 서버에 요청을 보내도 요청 거부당하는 일 존재\n",
    "무단 봇으로 짐작하고, 웹 서버에서 접근을 막는다.\n",
    "\n",
    "스팸 봇이 아니라 사람임을 알려주기 위해 user_agent 정보를 준다.\n"
   ]
  },
  {
   "cell_type": "markdown",
   "id": "7306d131",
   "metadata": {},
   "source": [
    "웹 스크래핑 원칙\n",
    "1. 요청하고자 하는 서버에 과도한 부하를 주지 않는다.\n",
    "2. 가져온 정보를 사용할 때 저작권과 데이터베이스권에 위배되지 않는지 주의한다."
   ]
  },
  {
   "cell_type": "markdown",
   "id": "e748d1c7",
   "metadata": {},
   "source": [
    "### robots.txt 가져오기\n",
    "\n",
    "robots.txt는 웹 페이지의 메인주소에 '/robots.txt' 를 입력하면 확인할 수 있다.\n",
    "\n",
    "예를 들어 naver의 경우 `www.naver.com/robots.txt`를 입력하면 된다.\n",
    "\n",
    "* User-agent : 규칙이 적용되는 대상 사용자 에이전트\n",
    "* Disallow : 크롤링을 금지할 웹 페이지\n",
    "* Allow : 크롤링을 허용할 웹 페이지\n"
   ]
  },
  {
   "cell_type": "code",
   "execution_count": 13,
   "id": "5d6e1497",
   "metadata": {},
   "outputs": [],
   "source": [
    "# requests 모듈을 불러온 후, 다음 웹 사이트에 대한 Robots.txt 정책 확인\n",
    "\n",
    "import requests\n",
    "\n",
    "res = requests.get(\"https://www.naver.com/robots.txt\")"
   ]
  },
  {
   "cell_type": "code",
   "execution_count": 15,
   "id": "8231b50a",
   "metadata": {},
   "outputs": [
    {
     "name": "stdout",
     "output_type": "stream",
     "text": [
      "User-agent: *\n",
      "Disallow: /\n",
      "Allow : /$ \n",
      "\n"
     ]
    }
   ],
   "source": [
    "print(res.text)\n",
    "\n",
    "# 모든 유저가 모든 요청을 거부한다 / /$ : 순수한 https://naver.com/까지는 허용이 된다."
   ]
  },
  {
   "cell_type": "code",
   "execution_count": 19,
   "id": "905e9296",
   "metadata": {},
   "outputs": [
    {
     "name": "stdout",
     "output_type": "stream",
     "text": [
      "User-agent: *\n",
      "Disallow: /m\n",
      "Disallow: /login\n",
      "Disallow: /gateway\n",
      "Allow: /\n"
     ]
    }
   ],
   "source": [
    "test = requests.get(\"https://www.tistory.com/robots.txt\")\n",
    "\n",
    "print(test.text)"
   ]
  }
 ],
 "metadata": {
  "kernelspec": {
   "display_name": "Python 3 (ipykernel)",
   "language": "python",
   "name": "python3"
  },
  "language_info": {
   "codemirror_mode": {
    "name": "ipython",
    "version": 3
   },
   "file_extension": ".py",
   "mimetype": "text/x-python",
   "name": "python",
   "nbconvert_exporter": "python",
   "pygments_lexer": "ipython3",
   "version": "3.9.13"
  }
 },
 "nbformat": 4,
 "nbformat_minor": 5
}
