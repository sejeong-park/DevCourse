{
 "cells": [
  {
   "cell_type": "markdown",
   "id": "103c52f1",
   "metadata": {},
   "source": [
    "# Selenium\n",
    "\n",
    "* `selenium`은 Python을 이용해 웹 브라우저를 조작할 수 있는 자동화 프레임 워크\n"
   ]
  },
  {
   "cell_type": "code",
   "execution_count": 2,
   "id": "7bc8879e",
   "metadata": {},
   "outputs": [
    {
     "name": "stdout",
     "output_type": "stream",
     "text": [
      "Collecting selenium\n",
      "  Downloading selenium-4.9.0-py3-none-any.whl (6.5 MB)\n",
      "\u001b[2K     \u001b[90m━━━━━━━━━━━━━━━━━━━━━━━━━━━━━━━━━━━━━━━━\u001b[0m \u001b[32m6.5/6.5 MB\u001b[0m \u001b[31m9.3 MB/s\u001b[0m eta \u001b[36m0:00:00\u001b[0m00:01\u001b[0m00:01\u001b[0m\n",
      "\u001b[?25hRequirement already satisfied: urllib3[socks]~=1.26 in /Library/Frameworks/Python.framework/Versions/3.10/lib/python3.10/site-packages (from selenium) (1.26.9)\n",
      "Collecting trio~=0.17\n",
      "  Using cached trio-0.22.0-py3-none-any.whl (384 kB)\n",
      "Requirement already satisfied: certifi>=2021.10.8 in /Library/Frameworks/Python.framework/Versions/3.10/lib/python3.10/site-packages (from selenium) (2021.10.8)\n",
      "Collecting trio-websocket~=0.9\n",
      "  Using cached trio_websocket-0.10.2-py3-none-any.whl (17 kB)\n",
      "Requirement already satisfied: sniffio in /Library/Frameworks/Python.framework/Versions/3.10/lib/python3.10/site-packages (from trio~=0.17->selenium) (1.2.0)\n",
      "Collecting outcome\n",
      "  Using cached outcome-1.2.0-py2.py3-none-any.whl (9.7 kB)\n",
      "Requirement already satisfied: attrs>=19.2.0 in /Library/Frameworks/Python.framework/Versions/3.10/lib/python3.10/site-packages (from trio~=0.17->selenium) (21.4.0)\n",
      "Collecting sortedcontainers\n",
      "  Downloading sortedcontainers-2.4.0-py2.py3-none-any.whl (29 kB)\n",
      "Collecting async-generator>=1.9\n",
      "  Using cached async_generator-1.10-py3-none-any.whl (18 kB)\n",
      "Requirement already satisfied: idna in /Library/Frameworks/Python.framework/Versions/3.10/lib/python3.10/site-packages (from trio~=0.17->selenium) (3.3)\n",
      "Collecting exceptiongroup>=1.0.0rc9\n",
      "  Using cached exceptiongroup-1.1.1-py3-none-any.whl (14 kB)\n",
      "Collecting wsproto>=0.14\n",
      "  Using cached wsproto-1.2.0-py3-none-any.whl (24 kB)\n",
      "Collecting PySocks!=1.5.7,<2.0,>=1.5.6\n",
      "  Downloading PySocks-1.7.1-py3-none-any.whl (16 kB)\n",
      "Requirement already satisfied: h11<1,>=0.9.0 in /Library/Frameworks/Python.framework/Versions/3.10/lib/python3.10/site-packages (from wsproto>=0.14->trio-websocket~=0.9->selenium) (0.13.0)\n",
      "Installing collected packages: sortedcontainers, wsproto, PySocks, outcome, exceptiongroup, async-generator, trio, trio-websocket, selenium\n",
      "Successfully installed PySocks-1.7.1 async-generator-1.10 exceptiongroup-1.1.1 outcome-1.2.0 selenium-4.9.0 sortedcontainers-2.4.0 trio-0.22.0 trio-websocket-0.10.2 wsproto-1.2.0\n",
      "\n",
      "\u001b[1m[\u001b[0m\u001b[34;49mnotice\u001b[0m\u001b[1;39;49m]\u001b[0m\u001b[39;49m A new release of pip available: \u001b[0m\u001b[31;49m22.1.2\u001b[0m\u001b[39;49m -> \u001b[0m\u001b[32;49m23.1\u001b[0m\n",
      "\u001b[1m[\u001b[0m\u001b[34;49mnotice\u001b[0m\u001b[1;39;49m]\u001b[0m\u001b[39;49m To update, run: \u001b[0m\u001b[32;49mpip install --upgrade pip\u001b[0m\n",
      "Note: you may need to restart the kernel to use updated packages.\n"
     ]
    }
   ],
   "source": [
    "%pip install selenium\n"
   ]
  },
  {
   "cell_type": "markdown",
   "id": "20afb168",
   "metadata": {},
   "source": [
    "## Web Driver\n",
    "\n",
    "* 웹 브라우저와 연동을 위해 `WebDriver` 가 필요하다\n",
    "\n",
    "WebDriver는 웹 브라우저를 제어할 숭 ㅣㅆ는 프레임워크\n",
    "\n",
    "이 실습에서는 Chrome을 기준으로 설명"
   ]
  },
  {
   "cell_type": "code",
   "execution_count": 4,
   "id": "ca6d76f4",
   "metadata": {},
   "outputs": [
    {
     "name": "stdout",
     "output_type": "stream",
     "text": [
      "Collecting webdriver-manager\n",
      "  Using cached webdriver_manager-3.8.6-py2.py3-none-any.whl (27 kB)\n",
      "Requirement already satisfied: tqdm in /Library/Frameworks/Python.framework/Versions/3.10/lib/python3.10/site-packages (from webdriver-manager) (4.64.0)\n",
      "Requirement already satisfied: packaging in /Library/Frameworks/Python.framework/Versions/3.10/lib/python3.10/site-packages (from webdriver-manager) (23.0)\n",
      "Requirement already satisfied: requests in /Library/Frameworks/Python.framework/Versions/3.10/lib/python3.10/site-packages (from webdriver-manager) (2.28.2)\n",
      "Requirement already satisfied: python-dotenv in /Library/Frameworks/Python.framework/Versions/3.10/lib/python3.10/site-packages (from webdriver-manager) (0.21.1)\n",
      "Requirement already satisfied: idna<4,>=2.5 in /Library/Frameworks/Python.framework/Versions/3.10/lib/python3.10/site-packages (from requests->webdriver-manager) (3.3)\n",
      "Requirement already satisfied: urllib3<1.27,>=1.21.1 in /Library/Frameworks/Python.framework/Versions/3.10/lib/python3.10/site-packages (from requests->webdriver-manager) (1.26.9)\n",
      "Requirement already satisfied: charset-normalizer<4,>=2 in /Library/Frameworks/Python.framework/Versions/3.10/lib/python3.10/site-packages (from requests->webdriver-manager) (2.0.12)\n",
      "Requirement already satisfied: certifi>=2017.4.17 in /Library/Frameworks/Python.framework/Versions/3.10/lib/python3.10/site-packages (from requests->webdriver-manager) (2021.10.8)\n",
      "Installing collected packages: webdriver-manager\n",
      "Successfully installed webdriver-manager-3.8.6\n",
      "\n",
      "\u001b[1m[\u001b[0m\u001b[34;49mnotice\u001b[0m\u001b[1;39;49m]\u001b[0m\u001b[39;49m A new release of pip available: \u001b[0m\u001b[31;49m22.1.2\u001b[0m\u001b[39;49m -> \u001b[0m\u001b[32;49m23.1\u001b[0m\n",
      "\u001b[1m[\u001b[0m\u001b[34;49mnotice\u001b[0m\u001b[1;39;49m]\u001b[0m\u001b[39;49m To update, run: \u001b[0m\u001b[32;49mpip install --upgrade pip\u001b[0m\n",
      "Note: you may need to restart the kernel to use updated packages.\n"
     ]
    }
   ],
   "source": [
    "%pip install webdriver-manager"
   ]
  },
  {
   "cell_type": "code",
   "execution_count": 5,
   "id": "fc0f0c30",
   "metadata": {},
   "outputs": [],
   "source": [
    "from selenium import webdriver\n",
    "from selenium.webdriver.chrome.service import Service\n",
    "from webdriver_manager.chrome import ChromeDriverManager"
   ]
  },
  {
   "cell_type": "markdown",
   "id": "038d9532",
   "metadata": {},
   "source": [
    "크롬이 실행 되는 이유 -> 명령을 통해 웹 브라우저를 실행하고, 파이썬과 연동 가능\n",
    "\n",
    "`.get(url)`을 활용해 요청을 보낸다."
   ]
  },
  {
   "cell_type": "code",
   "execution_count": 7,
   "id": "0a5fe754",
   "metadata": {},
   "outputs": [
    {
     "name": "stdout",
     "output_type": "stream",
     "text": [
      "<html><head>\n",
      "    <title>Example Domain</title>\n",
      "\n",
      "    <meta charset=\"utf-8\">\n",
      "    <meta http-equiv=\"Content-type\" content=\"text/html; charset=utf-8\">\n",
      "    <meta name=\"viewport\" content=\"width=device-width, initial-scale=1\">\n",
      "    <style type=\"text/css\">\n",
      "    body {\n",
      "        background-color: #f0f0f2;\n",
      "        margin: 0;\n",
      "        padding: 0;\n",
      "        font-family: -apple-system, system-ui, BlinkMacSystemFont, \"Segoe UI\", \"Open Sans\", \"Helvetica Neue\", Helvetica, Arial, sans-serif;\n",
      "        \n",
      "    }\n",
      "    div {\n",
      "        width: 600px;\n",
      "        margin: 5em auto;\n",
      "        padding: 2em;\n",
      "        background-color: #fdfdff;\n",
      "        border-radius: 0.5em;\n",
      "        box-shadow: 2px 3px 7px 2px rgba(0,0,0,0.02);\n",
      "    }\n",
      "    a:link, a:visited {\n",
      "        color: #38488f;\n",
      "        text-decoration: none;\n",
      "    }\n",
      "    @media (max-width: 700px) {\n",
      "        div {\n",
      "            margin: 0 auto;\n",
      "            width: auto;\n",
      "        }\n",
      "    }\n",
      "    </style>    \n",
      "</head>\n",
      "\n",
      "<body>\n",
      "<div>\n",
      "    <h1>Example Domain</h1>\n",
      "    <p>This domain is for use in illustrative examples in documents. You may use this\n",
      "    domain in literature without prior coordination or asking for permission.</p>\n",
      "    <p><a href=\"https://www.iana.org/domains/example\">More information...</a></p>\n",
      "</div>\n",
      "\n",
      "\n",
      "</body></html>\n"
     ]
    }
   ],
   "source": [
    "driver = webdriver.Chrome(service = Service(ChromeDriverManager().install())) # dirver 생성 == 크롬 브라우저를 킨다.\n",
    "driver.get(\"http://www.example.com\")\n",
    "\n",
    "# page_source 속성을 확인한다.\n",
    "print(driver.page_source)"
   ]
  },
  {
   "cell_type": "markdown",
   "id": "6724f6f2",
   "metadata": {},
   "source": [
    "프로그램을 실행하다보면 Chrome 창이 계속 켜져있게 된다.\n",
    "- 해당 창 끄라고 명령 하지 않았기 때문\n",
    "\n",
    "`with-as` 구문을 통해 주어진 명령이 끝나면 driver를 종료 하도록 설정 "
   ]
  },
  {
   "cell_type": "code",
   "execution_count": 8,
   "id": "8619e2e2",
   "metadata": {},
   "outputs": [
    {
     "name": "stdout",
     "output_type": "stream",
     "text": [
      "<html><head>\n",
      "    <title>Example Domain</title>\n",
      "\n",
      "    <meta charset=\"utf-8\">\n",
      "    <meta http-equiv=\"Content-type\" content=\"text/html; charset=utf-8\">\n",
      "    <meta name=\"viewport\" content=\"width=device-width, initial-scale=1\">\n",
      "    <style type=\"text/css\">\n",
      "    body {\n",
      "        background-color: #f0f0f2;\n",
      "        margin: 0;\n",
      "        padding: 0;\n",
      "        font-family: -apple-system, system-ui, BlinkMacSystemFont, \"Segoe UI\", \"Open Sans\", \"Helvetica Neue\", Helvetica, Arial, sans-serif;\n",
      "        \n",
      "    }\n",
      "    div {\n",
      "        width: 600px;\n",
      "        margin: 5em auto;\n",
      "        padding: 2em;\n",
      "        background-color: #fdfdff;\n",
      "        border-radius: 0.5em;\n",
      "        box-shadow: 2px 3px 7px 2px rgba(0,0,0,0.02);\n",
      "    }\n",
      "    a:link, a:visited {\n",
      "        color: #38488f;\n",
      "        text-decoration: none;\n",
      "    }\n",
      "    @media (max-width: 700px) {\n",
      "        div {\n",
      "            margin: 0 auto;\n",
      "            width: auto;\n",
      "        }\n",
      "    }\n",
      "    </style>    \n",
      "</head>\n",
      "\n",
      "<body>\n",
      "<div>\n",
      "    <h1>Example Domain</h1>\n",
      "    <p>This domain is for use in illustrative examples in documents. You may use this\n",
      "    domain in literature without prior coordination or asking for permission.</p>\n",
      "    <p><a href=\"https://www.iana.org/domains/example\">More information...</a></p>\n",
      "</div>\n",
      "\n",
      "\n",
      "</body></html>\n"
     ]
    }
   ],
   "source": [
    "# with-as를 사용해서 위 코드를 다시 적자!\n",
    "# 스크래핑을 진행할 때 굳이 창을 띄워놓을 필요가 없으므로, with as를 많이 사용한다.\n",
    "with webdriver.Chrome(service = Service(ChromeDriverManager().install())) as driver :\n",
    "    driver.get(\"http://www.example.com\")  \n",
    "    # p \n",
    "    \n",
    "    print(driver.page_source)"
   ]
  },
  {
   "cell_type": "markdown",
   "id": "6309caf4",
   "metadata": {},
   "source": [
    "## Driver에서 특정 요소 추출하기\n",
    "\n",
    "seleniu은 받아온 응답으로부터 특정 요소를 추출할 수 있다.\n",
    "**이미 브라우저를 활용하기 때문**\n",
    "\n",
    "응답을 가지고 있는 driver/요소에 대해 다음과 같은 메서드 적용 가능\n",
    "\n",
    "* 요소 하나 찾기\n",
    "    * `.find_element(by, target)`\n",
    "        * `by` : 대상을 찾는 기준 : `ID`, `TAG_NAME`, `CLASS_NAME`, ...\n",
    "        * `target` : 대상의 속성\n",
    "        \n",
    "* 요소 여러 개 찾기\n",
    "    * `.find_elements(by, target)`\n",
    "        * `by` : 대상을 찾는 기준 : `ID`, `TAG_NAME`, `CLASS_NAME`, ...\n",
    "        * `target` : 대상의 속성"
   ]
  },
  {
   "cell_type": "code",
   "execution_count": 6,
   "id": "a840b4a6",
   "metadata": {},
   "outputs": [
    {
     "name": "stderr",
     "output_type": "stream",
     "text": [
      "[WDM] - Downloading: 100%|██████████| 8.04M/8.04M [00:00<00:00, 10.8MB/s]\n"
     ]
    },
    {
     "name": "stdout",
     "output_type": "stream",
     "text": [
      "Text :  This domain is for use in illustrative examples in documents. You may use this domain in literature without prior coordination or asking for permission.\n",
      "Text :  More information...\n"
     ]
    }
   ],
   "source": [
    "# By를 import 한다.\n",
    "from selenium.webdriver.common.by import By\n",
    "\n",
    "\n",
    "with webdriver.Chrome(service = Service(ChromeDriverManager().install())) as driver :\n",
    "    driver.get(\"http://www.example.com\")  \n",
    "    # p 태그에 해당하는 요소 하나를 찾는다.\n",
    "    for element in driver.find_elements(By.TAG_NAME, \"p\") : \n",
    "        print(\"Text : \", element.text)"
   ]
  },
  {
   "cell_type": "markdown",
   "id": "c4f55104",
   "metadata": {},
   "source": [
    "# Wait and Call\n",
    "\n",
    "* Wait 을 이용해서 동적 웹 사이트를 성공적으로 스크래핑 해보자!\n",
    "\n",
    "## Implicit / Explicit Wait\n",
    "\n",
    "Selenium은 동적 웹 사이트에 대한 지원을 진행하기 위해 **명시적 기다림(Explicit Wait)** 과 **암묵적 기다림(Implicit Wait)** 을 지원한다.\n",
    "* Implicit Wait : 다 로딩이 될 때까지 **지정한 시간**동안 기다림\n",
    "    * ex - 다 로딩이 될 때까지 5초동안 기다려!\n",
    "* Explicit Wit : **특정 요소에 대한 제약**을 통한 기다림\n",
    "    * ex - 이 태그를 가져올 수 있을 때까지 기다려!"
   ]
  },
  {
   "cell_type": "markdown",
   "id": "7b544132",
   "metadata": {},
   "source": [
    "### Target : IndieStreet 이벤트 스크래핑\n",
    "\n",
    "* 행사 이름 스크래핑 : `https://indistreet.com/live?sortOption=startDate%3ADESC`\n",
    "* 해당 웹 페이지는 공연 리스트가 담긴 웹 페이지\n",
    "    * 그래서 XPath"
   ]
  },
  {
   "cell_type": "markdown",
   "id": "02f985c3",
   "metadata": {},
   "source": [
    "최근 웹사이트에서는 class에 임의의 값을 넣는 것이 추세\n",
    "- 손쉽게 스크래핑을 방지하고자!ㅎㅎ"
   ]
  },
  {
   "cell_type": "code",
   "execution_count": 7,
   "id": "87075cd4",
   "metadata": {},
   "outputs": [],
   "source": [
    "# 스크래핑에 필요한 라이브러리 불러오기\n",
    "\n",
    "from selenium import webdriver\n",
    "from selenium.webdriver.chrome.service import Service\n",
    "\n",
    "from selenium.webdriver.common.by import By\n",
    "from webdriver_manager.chrome import ChromeDriverManager"
   ]
  },
  {
   "cell_type": "markdown",
   "id": "1d53a9e6",
   "metadata": {},
   "source": [
    "## XPath \n",
    "스크래핑을 방지할 목적으로 랜덤하게 class 이름을 생성한다.\n",
    "\n",
    "이러한 경우 쓸 수 있는 방법이 여러가지인데,\n",
    "그 중 한가지 방법인 **위치**를 활용한 방법을 알아보도록 한다.\n",
    "\n",
    "`XPath`는 xml, html 문서 등의 요소의 위치를 경로로 표현하는 것을 의미\n",
    "마치 `데스크탑/폴더1/폴더2/음악.mp3`와 같이!\n",
    "\n",
    "이를 적용한 데이터를 온전히 가져오는 방법\n",
    "* hint : XPath `//*[@id=\"__next\"]/div/main/div[2]/div/div[4]/div[1]/div[1]/div/a/div[2]/a/div[2]/p[1]`\n",
    "\n",
    "\n"
   ]
  },
  {
   "cell_type": "code",
   "execution_count": 8,
   "id": "c207f50b",
   "metadata": {},
   "outputs": [
    {
     "ename": "NoSuchElementException",
     "evalue": "Message: no such element: Unable to locate element: {\"method\":\"xpath\",\"selector\":\"//*[@id=\"__next\"]/div/main/div[2]/div/div[4]/div[1]/div[1]/div/a/div[2]/p[1]\"}\n  (Session info: chrome=112.0.5615.137)\nStacktrace:\n0   chromedriver                        0x0000000104a55670 chromedriver + 4298352\n1   chromedriver                        0x0000000104a4dbbc chromedriver + 4266940\n2   chromedriver                        0x0000000104680758 chromedriver + 280408\n3   chromedriver                        0x00000001046bbb38 chromedriver + 523064\n4   chromedriver                        0x00000001046f4080 chromedriver + 753792\n5   chromedriver                        0x00000001046ae2d0 chromedriver + 467664\n6   chromedriver                        0x00000001046af354 chromedriver + 471892\n7   chromedriver                        0x0000000104a156c4 chromedriver + 4036292\n8   chromedriver                        0x0000000104a19c64 chromedriver + 4054116\n9   chromedriver                        0x0000000104a202d8 chromedriver + 4080344\n10  chromedriver                        0x0000000104a1a970 chromedriver + 4057456\n11  chromedriver                        0x00000001049f18dc chromedriver + 3889372\n12  chromedriver                        0x0000000104a3925c chromedriver + 4182620\n13  chromedriver                        0x0000000104a393b4 chromedriver + 4182964\n14  chromedriver                        0x0000000104a480f4 chromedriver + 4243700\n15  libsystem_pthread.dylib             0x000000018c61d240 _pthread_start + 148\n16  libsystem_pthread.dylib             0x000000018c618024 thread_start + 8\n",
     "output_type": "error",
     "traceback": [
      "\u001b[0;31m---------------------------------------------------------------------------\u001b[0m",
      "\u001b[0;31mNoSuchElementException\u001b[0m                    Traceback (most recent call last)",
      "Cell \u001b[0;32mIn[8], line 7\u001b[0m\n\u001b[1;32m      5\u001b[0m driver \u001b[39m=\u001b[39m webdriver\u001b[39m.\u001b[39mChrome(service \u001b[39m=\u001b[39m Service(ChromeDriverManager()\u001b[39m.\u001b[39minstall()))\n\u001b[1;32m      6\u001b[0m driver\u001b[39m.\u001b[39mget(\u001b[39m\"\u001b[39m\u001b[39mhttps://indistreet.com/live?sortOption=startDate\u001b[39m\u001b[39m%\u001b[39m\u001b[39m3ADESC\u001b[39m\u001b[39m\"\u001b[39m)\n\u001b[0;32m----> 7\u001b[0m driver\u001b[39m.\u001b[39;49mfind_element(By\u001b[39m.\u001b[39;49mXPATH, \u001b[39m'\u001b[39;49m\u001b[39m//*[@id=\u001b[39;49m\u001b[39m\"\u001b[39;49m\u001b[39m__next\u001b[39;49m\u001b[39m\"\u001b[39;49m\u001b[39m]/div/main/div[2]/div/div[4]/div[1]/div[1]/div/a/div[2]/p[1]\u001b[39;49m\u001b[39m'\u001b[39;49m)\u001b[39m.\u001b[39mtext\n",
      "File \u001b[0;32m/Library/Frameworks/Python.framework/Versions/3.10/lib/python3.10/site-packages/selenium/webdriver/remote/webdriver.py:831\u001b[0m, in \u001b[0;36mWebDriver.find_element\u001b[0;34m(self, by, value)\u001b[0m\n\u001b[1;32m    828\u001b[0m     by \u001b[39m=\u001b[39m By\u001b[39m.\u001b[39mCSS_SELECTOR\n\u001b[1;32m    829\u001b[0m     value \u001b[39m=\u001b[39m \u001b[39mf\u001b[39m\u001b[39m'\u001b[39m\u001b[39m[name=\u001b[39m\u001b[39m\"\u001b[39m\u001b[39m{\u001b[39;00mvalue\u001b[39m}\u001b[39;00m\u001b[39m\"\u001b[39m\u001b[39m]\u001b[39m\u001b[39m'\u001b[39m\n\u001b[0;32m--> 831\u001b[0m \u001b[39mreturn\u001b[39;00m \u001b[39mself\u001b[39;49m\u001b[39m.\u001b[39;49mexecute(Command\u001b[39m.\u001b[39;49mFIND_ELEMENT, {\u001b[39m\"\u001b[39;49m\u001b[39musing\u001b[39;49m\u001b[39m\"\u001b[39;49m: by, \u001b[39m\"\u001b[39;49m\u001b[39mvalue\u001b[39;49m\u001b[39m\"\u001b[39;49m: value})[\u001b[39m\"\u001b[39m\u001b[39mvalue\u001b[39m\u001b[39m\"\u001b[39m]\n",
      "File \u001b[0;32m/Library/Frameworks/Python.framework/Versions/3.10/lib/python3.10/site-packages/selenium/webdriver/remote/webdriver.py:440\u001b[0m, in \u001b[0;36mWebDriver.execute\u001b[0;34m(self, driver_command, params)\u001b[0m\n\u001b[1;32m    438\u001b[0m response \u001b[39m=\u001b[39m \u001b[39mself\u001b[39m\u001b[39m.\u001b[39mcommand_executor\u001b[39m.\u001b[39mexecute(driver_command, params)\n\u001b[1;32m    439\u001b[0m \u001b[39mif\u001b[39;00m response:\n\u001b[0;32m--> 440\u001b[0m     \u001b[39mself\u001b[39;49m\u001b[39m.\u001b[39;49merror_handler\u001b[39m.\u001b[39;49mcheck_response(response)\n\u001b[1;32m    441\u001b[0m     response[\u001b[39m\"\u001b[39m\u001b[39mvalue\u001b[39m\u001b[39m\"\u001b[39m] \u001b[39m=\u001b[39m \u001b[39mself\u001b[39m\u001b[39m.\u001b[39m_unwrap_value(response\u001b[39m.\u001b[39mget(\u001b[39m\"\u001b[39m\u001b[39mvalue\u001b[39m\u001b[39m\"\u001b[39m, \u001b[39mNone\u001b[39;00m))\n\u001b[1;32m    442\u001b[0m     \u001b[39mreturn\u001b[39;00m response\n",
      "File \u001b[0;32m/Library/Frameworks/Python.framework/Versions/3.10/lib/python3.10/site-packages/selenium/webdriver/remote/errorhandler.py:245\u001b[0m, in \u001b[0;36mErrorHandler.check_response\u001b[0;34m(self, response)\u001b[0m\n\u001b[1;32m    243\u001b[0m         alert_text \u001b[39m=\u001b[39m value[\u001b[39m\"\u001b[39m\u001b[39malert\u001b[39m\u001b[39m\"\u001b[39m]\u001b[39m.\u001b[39mget(\u001b[39m\"\u001b[39m\u001b[39mtext\u001b[39m\u001b[39m\"\u001b[39m)\n\u001b[1;32m    244\u001b[0m     \u001b[39mraise\u001b[39;00m exception_class(message, screen, stacktrace, alert_text)  \u001b[39m# type: ignore[call-arg]  # mypy is not smart enough here\u001b[39;00m\n\u001b[0;32m--> 245\u001b[0m \u001b[39mraise\u001b[39;00m exception_class(message, screen, stacktrace)\n",
      "\u001b[0;31mNoSuchElementException\u001b[0m: Message: no such element: Unable to locate element: {\"method\":\"xpath\",\"selector\":\"//*[@id=\"__next\"]/div/main/div[2]/div/div[4]/div[1]/div[1]/div/a/div[2]/p[1]\"}\n  (Session info: chrome=112.0.5615.137)\nStacktrace:\n0   chromedriver                        0x0000000104a55670 chromedriver + 4298352\n1   chromedriver                        0x0000000104a4dbbc chromedriver + 4266940\n2   chromedriver                        0x0000000104680758 chromedriver + 280408\n3   chromedriver                        0x00000001046bbb38 chromedriver + 523064\n4   chromedriver                        0x00000001046f4080 chromedriver + 753792\n5   chromedriver                        0x00000001046ae2d0 chromedriver + 467664\n6   chromedriver                        0x00000001046af354 chromedriver + 471892\n7   chromedriver                        0x0000000104a156c4 chromedriver + 4036292\n8   chromedriver                        0x0000000104a19c64 chromedriver + 4054116\n9   chromedriver                        0x0000000104a202d8 chromedriver + 4080344\n10  chromedriver                        0x0000000104a1a970 chromedriver + 4057456\n11  chromedriver                        0x00000001049f18dc chromedriver + 3889372\n12  chromedriver                        0x0000000104a3925c chromedriver + 4182620\n13  chromedriver                        0x0000000104a393b4 chromedriver + 4182964\n14  chromedriver                        0x0000000104a480f4 chromedriver + 4243700\n15  libsystem_pthread.dylib             0x000000018c61d240 _pthread_start + 148\n16  libsystem_pthread.dylib             0x000000018c618024 thread_start + 8\n"
     ]
    }
   ],
   "source": [
    "# XPath\n",
    "# //*[@id=\"__next\"]/div/main/div[2]/div/div[4]/div[1]/div[1]/div/a/div[2]/p[1]\n",
    "driver = webdriver.Chrome(service = Service(ChromeDriverManager().install()))\n",
    "driver.get(\"https://indistreet.com/live?sortOption=startDate%3ADESC\")\n",
    "driver.find_element(By.XPATH, '//*[@id=\"__next\"]/div/main/div[2]/div/div[4]/div[1]/div[1]/div/a/div[2]/p[1]').text"
   ]
  },
  {
   "cell_type": "markdown",
   "id": "bf96039d",
   "metadata": {},
   "source": [
    "### 오류가 나는 이유\n",
    "\n",
    "* 동적 웹페이지이기 때문에 성공적으로 스크래핑 하기 위해서는 `Wait`을 사용해야 한다. \n",
    "\n",
    "### Implicit Wait\n",
    "\n",
    "`.implicitly_wait()`를 활용해서 암시적 기다림을 적용할 수 있다.\n",
    "\n",
    "주의할 점으로, 반드시 해당 시간을 기다리는 것이 아니라, 로딩이 다 될때까지의 한계 시간을 의미"
   ]
  },
  {
   "cell_type": "code",
   "execution_count": 9,
   "id": "b60a4f68",
   "metadata": {},
   "outputs": [
    {
     "name": "stdout",
     "output_type": "stream",
     "text": [
      "드루브(dhruv) 첫 번째 내한공연⁠\n"
     ]
    }
   ],
   "source": [
    "# 10초 동안 Implicit Wait을 진행하도록 해서 스크래핑이 잘 이루어지도록 수정\n",
    "\n",
    "from selenium.webdriver.support.ui import WebDriverWait\n",
    "\n",
    "with webdriver.Chrome(service = Service(ChromeDriverManager().install())) as driver :\n",
    "    driver.get(\"https://indistreet.com/live?sortOption=startDate%3ADESC\")\n",
    "    \n",
    "    # implicitly_wait 덕분에, 오류가 나지 않음\n",
    "    driver.implicitly_wait(10)   # 요청을 완벽하게 실행된다면 (렌더링이 다 되었다면,) 다음으로 넘어가고, 그렇지 않으면 10초동안 기다린다.\n",
    "    \n",
    "    print(driver.find_element(By.XPATH, '//*[@id=\"__next\"]/div/main/div[2]/div/div[4]/div[1]/div[1]/div/a/div[2]/p[1]').text)\n"
   ]
  },
  {
   "cell_type": "markdown",
   "id": "056a8b10",
   "metadata": {},
   "source": [
    " ### Explicit Wait\n",
    " \n",
    " `WebDriverWait()` 과 두 메서드를 활용해서 명시적 기다림을 적용 가능\n",
    " \n",
    " * `until()` : 인자의 조건이 만족될 때까지\n",
    " * `until_not()` : 인자의 조건이 만족되지 않을 때까지\n",
    " \n",
    " 예를 들어, id가 `target`인 요소가 존재할 때까지 기다린 후 다음 명령 진행\n",
    " \n",
    " ```python\n",
    " element = WebDrvierWait(driver, 10).until(EC.presence_of_element_located((By.ID, \"target\")))\n",
    " ```\n",
    " \n",
    " 이 때 ec는 `expected_conditions`로 selenium에서 정의된 조건들"
   ]
  },
  {
   "cell_type": "code",
   "execution_count": 10,
   "id": "e16c2e7c",
   "metadata": {},
   "outputs": [
    {
     "name": "stdout",
     "output_type": "stream",
     "text": [
      "드루브(dhruv) 첫 번째 내한공연⁠\n"
     ]
    }
   ],
   "source": [
    "from selenium.webdriver.support import expected_conditions  as EC\n",
    "\n",
    "with webdriver.Chrome(service = Service(ChromeDriverManager().install())) as driver :\n",
    "    driver.get(\"https://indistreet.com/live?sortOption=startDate%3ADESC\")\n",
    "    \n",
    "    # explicit_wait - 위치 기반으로 특정 요소를 가리킨다.\n",
    "    element = WebDriverWait(driver, 10).until(EC.presence_of_element_located((By.XPATH, '//*[@id=\"__next\"]/div/main/div[2]/div/div[4]/div[1]/div[1]/div/a/div[2]/p[1]')))\n",
    "    \n",
    "    print(element.text)               "
   ]
  },
  {
   "cell_type": "markdown",
   "id": "665d54f5",
   "metadata": {},
   "source": [
    "### 여러 공연 제목 가져오기\n",
    "\n",
    "일반화 해서 가장 먼저 등장하는 10개의 이름 추출 코드"
   ]
  },
  {
   "cell_type": "code",
   "execution_count": 11,
   "id": "804a9f2b",
   "metadata": {},
   "outputs": [
    {
     "name": "stdout",
     "output_type": "stream",
     "text": [
      "드루브(dhruv) 첫 번째 내한공연⁠\n",
      "[ARLO PARKS LIVE IN SEOUL]\n",
      "부딪히고 뛰고 느껴라 <워킹애프터유>\n",
      "Lunar Stage!! 19th STAGE 🌙\n",
      "KUENSORI FEST🔊‼\n",
      "<너드커넥션 단독 콘서트 : 롤링 28주년 기념 공연>\n",
      "Pogo Attack Presents \"Punx Attack Vol.1\"\n",
      "펑크를 멈추지 말아요 <이디어츠>\n",
      "[대구] 서울전자음악단 Seoul Electronic Band 단독공연\n",
      "Garden in Ovantgarde\n"
     ]
    }
   ],
   "source": [
    "# 10개의 이름을 스크래핑 하는 코드 작성\n",
    "\n",
    "# Selenium을 활용해서 특정 위치에 있는 것을 가져오는 것\n",
    "# 비동기 상황에 Wait을 활용해서 해결하였다.\n",
    "with webdriver.Chrome(service = Service(ChromeDriverManager().install())) as driver :\n",
    "    driver.get(\"https://indistreet.com/live?sortOption=startDate%3ADESC\")\n",
    "    driver.implicitly_wait(10)\n",
    "    \n",
    "    for i in range(1, 11) : # 1 ~10\n",
    "        element = driver.find_element(By.XPATH, f'//*[@id=\"__next\"]/div/main/div[2]/div/div[4]/div[1]/div[{i}]/div/a/div[2]/p[1]')\n",
    "        print(element.text)        \n"
   ]
  },
  {
   "cell_type": "markdown",
   "id": "ee0b0915",
   "metadata": {},
   "source": [
    "## 마우스 이벤트 처리하기\n",
    "* Selenium을 이용해 마우스 Event 동작하기\n",
    "\n",
    "마우스로 일어날 수 잇는 대표적인 이벤트\n",
    "* 마우스 움직이기 (move)\n",
    "* 마우스 누르기 (press down)\n",
    "* 마우스 떼기 (press up)\n",
    "* ,,,\n"
   ]
  },
  {
   "cell_type": "markdown",
   "id": "8266aba6",
   "metadata": {},
   "source": [
    "### Target : 해시 코드 \"로그인\" 창 접속하기\n",
    "\n",
    "왜 굳이 로그인을 해?\n",
    "* 로그인을 해야만 스크래핑이 가능한 사이트 존재\n",
    "\n",
    "* `<a href=\"https://programmers.co.kr/account/sign_in?referer=https%3A%2F%2Fqna.programmers.co.kr%2F\">로그인</a>`\n",
    "\n",
    "저희는 버튼을 찾은 후 이를 클릭하는 것을 목표\n",
    "\n",
    "1. 입력하고자 하는 대상 요소 찾는다. (`find_element()` 이용)\n",
    "2. 입력하고자 하는 내용을 `click`을 통해 전달\n",
    "3. `.perform()`을 통해 동작\n",
    "\n",
    "id가 button인 요소를 클릭하는 예제\n",
    "\n",
    "```python\n",
    "button = driver.find_element(By.ID, \"button\")\n",
    "ActionChains(driver).click(button).perform()\n",
    "```\n",
    "\n",
    "* Action에 체인을 건다. -> 동시에 진행할 수 있도록 (콤보) "
   ]
  },
  {
   "cell_type": "code",
   "execution_count": 12,
   "id": "cd20332d",
   "metadata": {},
   "outputs": [],
   "source": [
    "# 스크래핑에 필요한 라이브러리 블러온다.\n",
    "\n",
    "from selenium import webdriver\n",
    "from selenium.webdriver import ActionChains\n",
    "from selenium.webdriver.chrome.service import Service\n",
    "from selenium.webdriver.common.by import By\n",
    "from selenium.webdriver.common.keys import Keys\n",
    "from webdriver_manager.chrome import ChromeDriverManager"
   ]
  },
  {
   "cell_type": "code",
   "execution_count": 13,
   "id": "aa4c945f",
   "metadata": {},
   "outputs": [],
   "source": [
    "# 주어진 웹사이트를 누른 후, 우리가 원하는 버튼 요소를 찾은 후 마우스 이벤트를 실행\n",
    "\n",
    "driver = webdriver.Chrome(service = Service(ChromeDriverManager().install()))\n",
    "driver.get(\"https://qna.programmers.co.kr/\")\n",
    "driver.implicitly_wait(0.5)\n",
    "\n",
    "\"\"\"\n",
    "특정 요소를 찾는다.\n",
    "\n",
    "강의에서는 로그인 버튼을 CLASS_NAME을 입력하였지만, 프로그래머스 홈페이지가 변경되어, 주소값이 달랐다 (매우)\n",
    "강의 진행 코드\n",
    "`button = driver.find_element(By.CLASS_NAME, \"nav-link.nav-signin\")`\n",
    "\"\"\"\n",
    "# //*[@id=\"main-app-gnb-header\"]/div/div/div[1]/div/div[1]/a\n",
    "button = driver.find_element(By.XPATH, '//*[@id=\"main-app-gnb-header\"]/div/div/div[1]/div/div[2]/div/div/div[1]/span[1]/a[1]')\n",
    "ActionChains(driver).click(button).perform()"
   ]
  },
  {
   "cell_type": "markdown",
   "id": "fd77cd2d",
   "metadata": {},
   "source": [
    "Selenium 공식문서를 보며 추가적으로 공부해보기 :) "
   ]
  },
  {
   "cell_type": "markdown",
   "id": "4e465949",
   "metadata": {},
   "source": [
    "## 키보드 이벤트 처리하기\n",
    "\n",
    "웹 페이지에서 일어나는 일들을 Event라고 한다.\n",
    "키보드로 일어날 수 있는 대표적인 이벤트는 \n",
    "* 키보드 누르기 (press down)\n",
    "* 키보드 떼기 (press up)\n",
    "\n",
    "저희는 입력창 (input 태그의 form)에 키보드 입력을 진행하는 것 목표 \n",
    "\n",
    "1. 키보드 누르기 (press down)\n",
    "2. 키보드 떼기 (press up)\n",
    "3. ...\n",
    "\n",
    "입력창(input 태그의 form에 키보드 입력을 진행하는 것 목표\n",
    "\n",
    "### 키보드로 일어날 수 있는 이벤트 예시>\n",
    "1. 입력하고자 하는 대상 요소를 찾는다. (`find_element()` 이용)\n",
    "2. 입력하고자 하는 내용을 `send_keys_to_element`를 통해 전달 \n",
    "3. `.perform()`을 통해 동작한다.\n",
    "\n",
    "예시\n",
    "```python\n",
    "text_input = driver.find_element(By.ID, \"textInput\")\n",
    "ActionChains(driver).send_keys_to_element(text_input, \"abc\").perform()\n",
    "\n",
    "```\n"
   ]
  },
  {
   "cell_type": "code",
   "execution_count": 15,
   "id": "f9631c2e",
   "metadata": {},
   "outputs": [
    {
     "ename": "StaleElementReferenceException",
     "evalue": "Message: stale element reference: element is not attached to the page document\n  (Session info: chrome=112.0.5615.137)\nStacktrace:\n0   chromedriver                        0x0000000104f29670 chromedriver + 4298352\n1   chromedriver                        0x0000000104f21bbc chromedriver + 4266940\n2   chromedriver                        0x0000000104b54758 chromedriver + 280408\n3   chromedriver                        0x0000000104b580c8 chromedriver + 295112\n4   chromedriver                        0x0000000104b57d74 chromedriver + 294260\n5   chromedriver                        0x0000000104b58170 chromedriver + 295280\n6   chromedriver                        0x0000000104b96620 chromedriver + 550432\n7   chromedriver                        0x0000000104b95aa4 chromedriver + 547492\n8   chromedriver                        0x0000000104bd0d80 chromedriver + 789888\n9   chromedriver                        0x0000000104bc8080 chromedriver + 753792\n10  chromedriver                        0x0000000104b822d0 chromedriver + 467664\n11  chromedriver                        0x0000000104b83354 chromedriver + 471892\n12  chromedriver                        0x0000000104ee96c4 chromedriver + 4036292\n13  chromedriver                        0x0000000104eedc64 chromedriver + 4054116\n14  chromedriver                        0x0000000104ef42d8 chromedriver + 4080344\n15  chromedriver                        0x0000000104eee970 chromedriver + 4057456\n16  chromedriver                        0x0000000104ec58dc chromedriver + 3889372\n17  chromedriver                        0x0000000104f0d25c chromedriver + 4182620\n18  chromedriver                        0x0000000104f0d3b4 chromedriver + 4182964\n19  chromedriver                        0x0000000104f1c0f4 chromedriver + 4243700\n20  libsystem_pthread.dylib             0x000000018c61d240 _pthread_start + 148\n21  libsystem_pthread.dylib             0x000000018c618024 thread_start + 8\n",
     "output_type": "error",
     "traceback": [
      "\u001b[0;31m---------------------------------------------------------------------------\u001b[0m",
      "\u001b[0;31mStaleElementReferenceException\u001b[0m            Traceback (most recent call last)",
      "Cell \u001b[0;32mIn[15], line 24\u001b[0m\n\u001b[1;32m     22\u001b[0m \u001b[39m# \"로그인\" 버튼을 눌러서 로그인을 완료한다. \u001b[39;00m\n\u001b[1;32m     23\u001b[0m loginbutton \u001b[39m=\u001b[39m driver\u001b[39m.\u001b[39mfind_element(By\u001b[39m.\u001b[39mXPATH, \u001b[39m'\u001b[39m\u001b[39m//*[@id=\u001b[39m\u001b[39m\"\u001b[39m\u001b[39mmain-app-account\u001b[39m\u001b[39m\"\u001b[39m\u001b[39m]/div/div[2]/div/div[2]/div[1]/div/div[2]/button\u001b[39m\u001b[39m'\u001b[39m)\n\u001b[0;32m---> 24\u001b[0m ActionChains(driver)\u001b[39m.\u001b[39;49mclick(button)\u001b[39m.\u001b[39;49mperform()\n",
      "File \u001b[0;32m/Library/Frameworks/Python.framework/Versions/3.10/lib/python3.10/site-packages/selenium/webdriver/common/action_chains.py:73\u001b[0m, in \u001b[0;36mActionChains.perform\u001b[0;34m(self)\u001b[0m\n\u001b[1;32m     71\u001b[0m \u001b[39mdef\u001b[39;00m \u001b[39mperform\u001b[39m(\u001b[39mself\u001b[39m):\n\u001b[1;32m     72\u001b[0m \u001b[39m    \u001b[39m\u001b[39m\"\"\"Performs all stored actions.\"\"\"\u001b[39;00m\n\u001b[0;32m---> 73\u001b[0m     \u001b[39mself\u001b[39;49m\u001b[39m.\u001b[39;49mw3c_actions\u001b[39m.\u001b[39;49mperform()\n",
      "File \u001b[0;32m/Library/Frameworks/Python.framework/Versions/3.10/lib/python3.10/site-packages/selenium/webdriver/common/actions/action_builder.py:91\u001b[0m, in \u001b[0;36mActionBuilder.perform\u001b[0;34m(self)\u001b[0m\n\u001b[1;32m     89\u001b[0m         enc[\u001b[39m\"\u001b[39m\u001b[39mactions\u001b[39m\u001b[39m\"\u001b[39m]\u001b[39m.\u001b[39mappend(encoded)\n\u001b[1;32m     90\u001b[0m         device\u001b[39m.\u001b[39mactions \u001b[39m=\u001b[39m []\n\u001b[0;32m---> 91\u001b[0m \u001b[39mself\u001b[39;49m\u001b[39m.\u001b[39;49mdriver\u001b[39m.\u001b[39;49mexecute(Command\u001b[39m.\u001b[39;49mW3C_ACTIONS, enc)\n",
      "File \u001b[0;32m/Library/Frameworks/Python.framework/Versions/3.10/lib/python3.10/site-packages/selenium/webdriver/remote/webdriver.py:440\u001b[0m, in \u001b[0;36mWebDriver.execute\u001b[0;34m(self, driver_command, params)\u001b[0m\n\u001b[1;32m    438\u001b[0m response \u001b[39m=\u001b[39m \u001b[39mself\u001b[39m\u001b[39m.\u001b[39mcommand_executor\u001b[39m.\u001b[39mexecute(driver_command, params)\n\u001b[1;32m    439\u001b[0m \u001b[39mif\u001b[39;00m response:\n\u001b[0;32m--> 440\u001b[0m     \u001b[39mself\u001b[39;49m\u001b[39m.\u001b[39;49merror_handler\u001b[39m.\u001b[39;49mcheck_response(response)\n\u001b[1;32m    441\u001b[0m     response[\u001b[39m\"\u001b[39m\u001b[39mvalue\u001b[39m\u001b[39m\"\u001b[39m] \u001b[39m=\u001b[39m \u001b[39mself\u001b[39m\u001b[39m.\u001b[39m_unwrap_value(response\u001b[39m.\u001b[39mget(\u001b[39m\"\u001b[39m\u001b[39mvalue\u001b[39m\u001b[39m\"\u001b[39m, \u001b[39mNone\u001b[39;00m))\n\u001b[1;32m    442\u001b[0m     \u001b[39mreturn\u001b[39;00m response\n",
      "File \u001b[0;32m/Library/Frameworks/Python.framework/Versions/3.10/lib/python3.10/site-packages/selenium/webdriver/remote/errorhandler.py:245\u001b[0m, in \u001b[0;36mErrorHandler.check_response\u001b[0;34m(self, response)\u001b[0m\n\u001b[1;32m    243\u001b[0m         alert_text \u001b[39m=\u001b[39m value[\u001b[39m\"\u001b[39m\u001b[39malert\u001b[39m\u001b[39m\"\u001b[39m]\u001b[39m.\u001b[39mget(\u001b[39m\"\u001b[39m\u001b[39mtext\u001b[39m\u001b[39m\"\u001b[39m)\n\u001b[1;32m    244\u001b[0m     \u001b[39mraise\u001b[39;00m exception_class(message, screen, stacktrace, alert_text)  \u001b[39m# type: ignore[call-arg]  # mypy is not smart enough here\u001b[39;00m\n\u001b[0;32m--> 245\u001b[0m \u001b[39mraise\u001b[39;00m exception_class(message, screen, stacktrace)\n",
      "\u001b[0;31mStaleElementReferenceException\u001b[0m: Message: stale element reference: element is not attached to the page document\n  (Session info: chrome=112.0.5615.137)\nStacktrace:\n0   chromedriver                        0x0000000104f29670 chromedriver + 4298352\n1   chromedriver                        0x0000000104f21bbc chromedriver + 4266940\n2   chromedriver                        0x0000000104b54758 chromedriver + 280408\n3   chromedriver                        0x0000000104b580c8 chromedriver + 295112\n4   chromedriver                        0x0000000104b57d74 chromedriver + 294260\n5   chromedriver                        0x0000000104b58170 chromedriver + 295280\n6   chromedriver                        0x0000000104b96620 chromedriver + 550432\n7   chromedriver                        0x0000000104b95aa4 chromedriver + 547492\n8   chromedriver                        0x0000000104bd0d80 chromedriver + 789888\n9   chromedriver                        0x0000000104bc8080 chromedriver + 753792\n10  chromedriver                        0x0000000104b822d0 chromedriver + 467664\n11  chromedriver                        0x0000000104b83354 chromedriver + 471892\n12  chromedriver                        0x0000000104ee96c4 chromedriver + 4036292\n13  chromedriver                        0x0000000104eedc64 chromedriver + 4054116\n14  chromedriver                        0x0000000104ef42d8 chromedriver + 4080344\n15  chromedriver                        0x0000000104eee970 chromedriver + 4057456\n16  chromedriver                        0x0000000104ec58dc chromedriver + 3889372\n17  chromedriver                        0x0000000104f0d25c chromedriver + 4182620\n18  chromedriver                        0x0000000104f0d3b4 chromedriver + 4182964\n19  chromedriver                        0x0000000104f1c0f4 chromedriver + 4243700\n20  libsystem_pthread.dylib             0x000000018c61d240 _pthread_start + 148\n21  libsystem_pthread.dylib             0x000000018c618024 thread_start + 8\n"
     ]
    }
   ],
   "source": [
    "# 주어진 웹사이트를 누른 후, 우리가 원하는 버튼 요소를 찾은 후 마우스 이벤트를 실행\n",
    "# Action이 시간대별로 겹치면 오류 발생\n",
    "# 빠르게 전환하다보면 구현된 웹 사이트 상에서 이벤트의 구현이 겹칠 수도 있어 사이에 intervel을 주어도 된다.\n",
    "import time\n",
    "\n",
    "driver = webdriver.Chrome(service = Service(ChromeDriverManager().install()))\n",
    "driver.get(\"https://qna.programmers.co.kr/\")\n",
    "time.sleep(1)\n",
    "\n",
    "button = driver.find_element(By.XPATH, '//*[@id=\"main-app-gnb-header\"]/div/div/div[1]/div/div[2]/div/div/div[1]/span[1]/a[1]')\n",
    "ActionChains(driver).click(button).perform()\n",
    "time.sleep(1)\n",
    "\n",
    "# \"아이디\" input 요소에 여러분의 아이디를 입력한다.\n",
    "id_input = driver.find_element(By.XPATH, '//*[@id=\"main-app-account\"]/div/div[2]/div/div[2]/div[1]/div/div[2]/div[2]/input')\n",
    "ActionChains(driver).send_keys_to_element(id_input, \"test_id\").perform()\n",
    "\n",
    "# \"패스워드\" input요소에 여러분의 비밀 번호를 입력합니다.\n",
    "pw_input = driver.find_element(By.XPATH, '//*[@id=\"main-app-account\"]/div/div[2]/div/div[2]/div[1]/div/div[2]/div[4]/input')\n",
    "ActionChains(driver).send_keys_to_element(pw_input, \"test_pw\").perform()\n",
    "\n",
    "# \"로그인\" 버튼을 눌러서 로그인을 완료한다. \n",
    "loginbutton = driver.find_element(By.XPATH, '//*[@id=\"main-app-account\"]/div/div[2]/div/div[2]/div[1]/div/div[2]/button')\n",
    "ActionChains(driver).click(button).perform()\n"
   ]
  },
  {
   "cell_type": "markdown",
   "id": "dbbcd92f",
   "metadata": {},
   "source": [
    "### Implicitly Wait과 Time의 차이는 무엇일까?\n",
    "\n",
    "* Implicitly Wait : 준비가 되면 바로 실행\n",
    "* wait : 반드시 이 시간을 지킨다.\n"
   ]
  },
  {
   "cell_type": "code",
   "execution_count": null,
   "id": "e6de8a96",
   "metadata": {},
   "outputs": [],
   "source": [
    "id_input = driver.find_element(By.XPATH, '//*[@id=\"main-app-account\"]/div/div[2]/div/div[2]/div[1]/div/div[2]/div[2]/input')\n",
    "ActionChains(driver).send_keys_to_element(id_input, \"{아이디}\").perform()\n",
    "\n",
    "\n",
    "pw_input = driver.find_element(By.XPATH, '//*[@id=\"main-app-account\"]/div/div[2]/div/div[2]/div[1]/div/div[2]/div[4]/input')\n",
    "ActionChains(driver).send_keys_to_element(pw_input, \"{비밀번호}\").perform()\n",
    "\n",
    "button = driver.find_element(By.XPATH, '//*[@id=\"main-app-account\"]/div/div[2]/div/div[2]/div[1]/div/div[2]/button')\n",
    "ActionChains(driver).click(button).perform()"
   ]
  }
 ],
 "metadata": {
  "kernelspec": {
   "display_name": "venv",
   "language": "python",
   "name": "venv"
  },
  "language_info": {
   "codemirror_mode": {
    "name": "ipython",
    "version": 3
   },
   "file_extension": ".py",
   "mimetype": "text/x-python",
   "name": "python",
   "nbconvert_exporter": "python",
   "pygments_lexer": "ipython3",
   "version": "3.10.2"
  }
 },
 "nbformat": 4,
 "nbformat_minor": 5
}
