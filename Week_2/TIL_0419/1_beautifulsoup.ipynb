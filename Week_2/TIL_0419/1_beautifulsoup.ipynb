{
 "cells": [
  {
   "cell_type": "code",
   "execution_count": 1,
   "id": "c47c39b7",
   "metadata": {},
   "outputs": [
    {
     "name": "stdout",
     "output_type": "stream",
     "text": [
      "Requirement already satisfied: beautifulsoup4 in /Users/sj.park/opt/anaconda3/lib/python3.9/site-packages (4.11.1)\n",
      "Requirement already satisfied: soupsieve>1.2 in /Users/sj.park/opt/anaconda3/lib/python3.9/site-packages (from beautifulsoup4) (2.3.1)\n",
      "Note: you may need to restart the kernel to use updated packages.\n"
     ]
    }
   ],
   "source": [
    "%pip install beautifulsoup4"
   ]
  },
  {
   "cell_type": "code",
   "execution_count": 4,
   "id": "e5567d07",
   "metadata": {},
   "outputs": [
    {
     "data": {
      "text/plain": [
       "'<!doctype html>\\n<html>\\n<head>\\n    <title>Example Domain</title>\\n\\n    <meta charset=\"utf-8\" />\\n    <meta http-equiv=\"Content-type\" content=\"text/html; charset=utf-8\" />\\n    <meta name=\"viewport\" content=\"width=device-width, initial-scale=1\" />\\n    <style type=\"text/css\">\\n    body {\\n        background-color: #f0f0f2;\\n        margin: 0;\\n        padding: 0;\\n        font-family: -apple-system, system-ui, BlinkMacSystemFont, \"Segoe UI\", \"Open Sans\", \"Helvetica Neue\", Helvetica, Arial, sans-serif;\\n        \\n    }\\n    div {\\n        width: 600px;\\n        margin: 5em auto;\\n        padding: 2em;\\n        background-color: #fdfdff;\\n        border-radius: 0.5em;\\n        box-shadow: 2px 3px 7px 2px rgba(0,0,0,0.02);\\n    }\\n    a:link, a:visited {\\n        color: #38488f;\\n        text-decoration: none;\\n    }\\n    @media (max-width: 700px) {\\n        div {\\n            margin: 0 auto;\\n            width: auto;\\n        }\\n    }\\n    </style>    \\n</head>\\n\\n<body>\\n<div>\\n    <h1>Example Domain</h1>\\n    <p>This domain is for use in illustrative examples in documents. You may use this\\n    domain in literature without prior coordination or asking for permission.</p>\\n    <p><a href=\"https://www.iana.org/domains/example\">More information...</a></p>\\n</div>\\n</body>\\n</html>\\n'"
      ]
     },
     "execution_count": 4,
     "metadata": {},
     "output_type": "execute_result"
    }
   ],
   "source": [
    "# www.example.com 사이트 요청 후 응답 받아오기\n",
    "# 모듈 불러오기\n",
    "\n",
    "import requests\n",
    "\n",
    "res = requests.get(\"https://www.example.com\")\n",
    "\n",
    "res.text"
   ]
  },
  {
   "cell_type": "code",
   "execution_count": 5,
   "id": "4d1922e8",
   "metadata": {},
   "outputs": [],
   "source": [
    "from bs4 import BeautifulSoup\n",
    "\n",
    "soup = BeautifulSoup(res.text, \"html.parser\")"
   ]
  },
  {
   "cell_type": "code",
   "execution_count": 6,
   "id": "36a571ac",
   "metadata": {},
   "outputs": [
    {
     "name": "stdout",
     "output_type": "stream",
     "text": [
      "<!DOCTYPE html>\n",
      "<html>\n",
      " <head>\n",
      "  <title>\n",
      "   Example Domain\n",
      "  </title>\n",
      "  <meta charset=\"utf-8\"/>\n",
      "  <meta content=\"text/html; charset=utf-8\" http-equiv=\"Content-type\"/>\n",
      "  <meta content=\"width=device-width, initial-scale=1\" name=\"viewport\"/>\n",
      "  <style type=\"text/css\">\n",
      "   body {\n",
      "        background-color: #f0f0f2;\n",
      "        margin: 0;\n",
      "        padding: 0;\n",
      "        font-family: -apple-system, system-ui, BlinkMacSystemFont, \"Segoe UI\", \"Open Sans\", \"Helvetica Neue\", Helvetica, Arial, sans-serif;\n",
      "        \n",
      "    }\n",
      "    div {\n",
      "        width: 600px;\n",
      "        margin: 5em auto;\n",
      "        padding: 2em;\n",
      "        background-color: #fdfdff;\n",
      "        border-radius: 0.5em;\n",
      "        box-shadow: 2px 3px 7px 2px rgba(0,0,0,0.02);\n",
      "    }\n",
      "    a:link, a:visited {\n",
      "        color: #38488f;\n",
      "        text-decoration: none;\n",
      "    }\n",
      "    @media (max-width: 700px) {\n",
      "        div {\n",
      "            margin: 0 auto;\n",
      "            width: auto;\n",
      "        }\n",
      "    }\n",
      "  </style>\n",
      " </head>\n",
      " <body>\n",
      "  <div>\n",
      "   <h1>\n",
      "    Example Domain\n",
      "   </h1>\n",
      "   <p>\n",
      "    This domain is for use in illustrative examples in documents. You may use this\n",
      "    domain in literature without prior coordination or asking for permission.\n",
      "   </p>\n",
      "   <p>\n",
      "    <a href=\"https://www.iana.org/domains/example\">\n",
      "     More information...\n",
      "    </a>\n",
      "   </p>\n",
      "  </div>\n",
      " </body>\n",
      "</html>\n",
      "\n"
     ]
    }
   ],
   "source": [
    "print(soup.prettify())"
   ]
  },
  {
   "cell_type": "code",
   "execution_count": 8,
   "id": "faf72225",
   "metadata": {},
   "outputs": [
    {
     "data": {
      "text/plain": [
       "<head>\n",
       "<title>Example Domain</title>\n",
       "<meta charset=\"utf-8\"/>\n",
       "<meta content=\"text/html; charset=utf-8\" http-equiv=\"Content-type\"/>\n",
       "<meta content=\"width=device-width, initial-scale=1\" name=\"viewport\"/>\n",
       "<style type=\"text/css\">\n",
       "    body {\n",
       "        background-color: #f0f0f2;\n",
       "        margin: 0;\n",
       "        padding: 0;\n",
       "        font-family: -apple-system, system-ui, BlinkMacSystemFont, \"Segoe UI\", \"Open Sans\", \"Helvetica Neue\", Helvetica, Arial, sans-serif;\n",
       "        \n",
       "    }\n",
       "    div {\n",
       "        width: 600px;\n",
       "        margin: 5em auto;\n",
       "        padding: 2em;\n",
       "        background-color: #fdfdff;\n",
       "        border-radius: 0.5em;\n",
       "        box-shadow: 2px 3px 7px 2px rgba(0,0,0,0.02);\n",
       "    }\n",
       "    a:link, a:visited {\n",
       "        color: #38488f;\n",
       "        text-decoration: none;\n",
       "    }\n",
       "    @media (max-width: 700px) {\n",
       "        div {\n",
       "            margin: 0 auto;\n",
       "            width: auto;\n",
       "        }\n",
       "    }\n",
       "    </style>\n",
       "</head>"
      ]
     },
     "execution_count": 8,
     "metadata": {},
     "output_type": "execute_result"
    }
   ],
   "source": [
    "# title 가져오기\n",
    "\n",
    "soup.title\n",
    "soup.head"
   ]
  },
  {
   "cell_type": "code",
   "execution_count": 9,
   "id": "3668e84a",
   "metadata": {},
   "outputs": [
    {
     "data": {
      "text/plain": [
       "<body>\n",
       "<div>\n",
       "<h1>Example Domain</h1>\n",
       "<p>This domain is for use in illustrative examples in documents. You may use this\n",
       "    domain in literature without prior coordination or asking for permission.</p>\n",
       "<p><a href=\"https://www.iana.org/domains/example\">More information...</a></p>\n",
       "</div>\n",
       "</body>"
      ]
     },
     "execution_count": 9,
     "metadata": {},
     "output_type": "execute_result"
    }
   ],
   "source": [
    "soup.body"
   ]
  },
  {
   "cell_type": "code",
   "execution_count": 13,
   "id": "8b1825fe",
   "metadata": {},
   "outputs": [
    {
     "data": {
      "text/plain": [
       "'Example Domain'"
      ]
     },
     "execution_count": 13,
     "metadata": {},
     "output_type": "execute_result"
    }
   ],
   "source": [
    "h1 = soup.find(\"h1\")\n",
    "\n",
    "h1.name\n",
    "h1.text"
   ]
  },
  {
   "cell_type": "code",
   "execution_count": 11,
   "id": "88c180d3",
   "metadata": {},
   "outputs": [
    {
     "data": {
      "text/plain": [
       "[<p>This domain is for use in illustrative examples in documents. You may use this\n",
       "     domain in literature without prior coordination or asking for permission.</p>,\n",
       " <p><a href=\"https://www.iana.org/domains/example\">More information...</a></p>]"
      ]
     },
     "execution_count": 11,
     "metadata": {},
     "output_type": "execute_result"
    }
   ],
   "source": [
    "soup.find_all(\"p\")"
   ]
  },
  {
   "cell_type": "markdown",
   "id": "7c96b959",
   "metadata": {},
   "source": [
    "### 스크래핑\n",
    "\n",
    "http://books.toscrape.com/catalogue/category/books/travel_2/index.html\n",
    " 위 링크 책 정보스크래핑\n",
    "\n",
    "위 사이트에 있는 책 이름의 정보를 스크래핑\n"
   ]
  },
  {
   "cell_type": "code",
   "execution_count": 14,
   "id": "c1df46e3",
   "metadata": {},
   "outputs": [],
   "source": [
    "import requests\n",
    "from bs4 import BeautifulSoup\n",
    "\n",
    "# 예시 사이트에 요청을 진행하고, 응답을 바탕으로 BeautifulSoup 객체를 만들자!\n",
    "\n",
    "res = requests.get(\"http://books.toscrape.com/catalogue/category/books/travel_2/index.html\")\n",
    "\n",
    "soup = BeautifulSoup(res.text, \"html.parser\")\n",
    "\n"
   ]
  },
  {
   "cell_type": "code",
   "execution_count": 15,
   "id": "8deb6ec0",
   "metadata": {},
   "outputs": [
    {
     "data": {
      "text/plain": [
       "<h3><a href=\"../../../its-only-the-himalayas_981/index.html\" title=\"It's Only the Himalayas\">It's Only the Himalayas</a></h3>"
      ]
     },
     "execution_count": 15,
     "metadata": {},
     "output_type": "execute_result"
    }
   ],
   "source": [
    "# <h3> 태그에 해당하는 요소 하나\n",
    "\n",
    "soup.find(\"h3\")"
   ]
  },
  {
   "cell_type": "code",
   "execution_count": 17,
   "id": "5146f75c",
   "metadata": {},
   "outputs": [
    {
     "data": {
      "text/plain": [
       "11"
      ]
     },
     "execution_count": 17,
     "metadata": {},
     "output_type": "execute_result"
    }
   ],
   "source": [
    "# <h3> 태그에 해당하는 요소를 모두 찾아보자\n",
    "\n",
    "h3_result = soup.find_all(\"h3\")\n",
    "len(h3_result)"
   ]
  },
  {
   "cell_type": "code",
   "execution_count": 18,
   "id": "85e8b1ff",
   "metadata": {},
   "outputs": [
    {
     "data": {
      "text/plain": [
       "<h3><a href=\"../../../its-only-the-himalayas_981/index.html\" title=\"It's Only the Himalayas\">It's Only the Himalayas</a></h3>"
      ]
     },
     "execution_count": 18,
     "metadata": {},
     "output_type": "execute_result"
    }
   ],
   "source": [
    "h3_result[0]"
   ]
  },
  {
   "cell_type": "markdown",
   "id": "72891ba1",
   "metadata": {},
   "source": [
    "찾아온 데이터들은 모두 \"객체\"이므로, 저희가 익숙한 방식대로 데이터를 추출할 수 있다."
   ]
  },
  {
   "cell_type": "code",
   "execution_count": 20,
   "id": "d7624988",
   "metadata": {},
   "outputs": [
    {
     "data": {
      "text/plain": [
       "\"It's Only the Himalayas\""
      ]
     },
     "execution_count": 20,
     "metadata": {},
     "output_type": "execute_result"
    }
   ],
   "source": [
    "# book_list에서 우리가 우너하는 제목(title)만 추출해봅시다.\n",
    "book = soup.find(\"h3\")\n",
    "book.a.text"
   ]
  },
  {
   "cell_type": "code",
   "execution_count": 22,
   "id": "4478f779",
   "metadata": {},
   "outputs": [
    {
     "name": "stdout",
     "output_type": "stream",
     "text": [
      "It's Only the Himalayas\n",
      "Full Moon over Noahâs ...\n",
      "See America: A Celebration ...\n",
      "Vagabonding: An Uncommon Guide ...\n",
      "Under the Tuscan Sun\n",
      "A Summer In Europe\n",
      "The Great Railway Bazaar\n",
      "A Year in Provence ...\n",
      "The Road to Little ...\n",
      "Neither Here nor There: ...\n",
      "1,000 Places to See ...\n"
     ]
    }
   ],
   "source": [
    "for book in h3_result :\n",
    "    print(book.a.text)"
   ]
  },
  {
   "cell_type": "markdown",
   "id": "e5b612ac",
   "metadata": {},
   "source": [
    "### HTML의 Locator로 원하는 요소 찾기\n",
    "* `id`와 `class`를 활용해 특정 요소를 지정해서 정보를 가져오는 방법을 학습!\n",
    "\n",
    "\n",
    "태그는 자신의 이름 뿐만 아니라, 고유한 속성 또한 가질 수 있다.\n",
    "이 중 id와 class는 Locator로서, 특정 태그를 지칭하는데 사용된다.\n",
    "\n",
    "* tagname : 태그의 이름\n",
    "* id : 하나의 고유 태그를 가리키는 라벨\n",
    "* class : 여러 태그를 묶는 라벨\n",
    "\n",
    "```html\n",
    "<p>This element has only tagname</p>\n",
    "<p id=\"target\">This element has tagname and id</p>\n",
    "<p class=\"targets\">This element has tagname and class</p>\n",
    "\n",
    "```\n",
    "id와 class를 이용해서 HTML의 특정 태그를 지칭하고 가져오는 방법을 알아보자!"
   ]
  },
  {
   "cell_type": "code",
   "execution_count": 26,
   "id": "f36a8eac",
   "metadata": {},
   "outputs": [],
   "source": [
    "# 스크래핑에 필요한 라이브러리 불러와보자!\n",
    "\n",
    "import requests\n",
    "from bs4 import BeautifulSoup\n",
    "\n",
    "res = requests.get(\"http://books.toscrape.com/catalogue/category/books/travel_2/index.html\")\n",
    "soup = BeautifulSoup(res.text, \"html.parser\")"
   ]
  },
  {
   "cell_type": "markdown",
   "id": "df4a65df",
   "metadata": {},
   "source": [
    "### id를 이용해서 요소 가져오기\n",
    "* id는 요소 하나를 지칭하는 특별한 별명 - 겹칠 수 없다.\n",
    "* id를 이용하면 해당하는 태그 단 하나를 쉽게 가져올 수 있다.\n"
   ]
  },
  {
   "cell_type": "code",
   "execution_count": 27,
   "id": "0ab035c0",
   "metadata": {},
   "outputs": [
    {
     "data": {
      "text/plain": [
       "<div class=\"page_inner\">\n",
       "<div class=\"row\">\n",
       "<div class=\"col-sm-8 h1\"><a href=\"../../../../index.html\">Books to Scrape</a><small> We love being scraped!</small>\n",
       "</div>\n",
       "</div>\n",
       "</div>"
      ]
     },
     "execution_count": 27,
     "metadata": {},
     "output_type": "execute_result"
    }
   ],
   "source": [
    "# id 없이 div 태그 찾기\n",
    "\n",
    "soup.find(\"div\")"
   ]
  },
  {
   "cell_type": "code",
   "execution_count": 31,
   "id": "4fb74357",
   "metadata": {},
   "outputs": [
    {
     "data": {
      "text/plain": [
       "<div id=\"messages\">\n",
       "</div>"
      ]
     },
     "execution_count": 31,
     "metadata": {},
     "output_type": "execute_result"
    }
   ],
   "source": [
    "soup.find(\"div\", id = \"messages\")\n"
   ]
  },
  {
   "cell_type": "markdown",
   "id": "de6db93f",
   "metadata": {},
   "source": [
    "### class 를 이용해서 요소 (들) 가져오기\n",
    "* class는 유사한 요소들을 구분짓는 별명이다.\n",
    "* class를 이용하면, 해당하는 태그 하나 (혹은 여러개)를 쉽게 가져올 수 있다.\n",
    "\n",
    "ex - 차트 속의 데이터"
   ]
  },
  {
   "cell_type": "code",
   "execution_count": 33,
   "id": "67b5f231",
   "metadata": {},
   "outputs": [],
   "source": [
    "find_result = soup.find(\"div\", \"page-header\")"
   ]
  },
  {
   "cell_type": "code",
   "execution_count": 35,
   "id": "d32392ea",
   "metadata": {},
   "outputs": [
    {
     "data": {
      "text/plain": [
       "'Travel'"
      ]
     },
     "execution_count": 35,
     "metadata": {},
     "output_type": "execute_result"
    }
   ],
   "source": [
    "find_result.h1.text"
   ]
  },
  {
   "cell_type": "markdown",
   "id": "6bcaa044",
   "metadata": {},
   "source": [
    "## 2-5. 원하는 요소 가져오기 II-Hashcode 질문 가져오기\n",
    "* BeautifulSoup을 이용해서 Hashcode 질문 내용을 스크래핑 해본다.\n",
    "\n",
    "### 스크래핑하고자 하는 사이트 확인하기\n",
    "* `https://qna.programmers.co.kr/`\n",
    "\n",
    "\n",
    "### 스크래핑 두가지 원칙\n",
    "1. 과도한 요청 보내지 않기\n",
    "2. 받아온 정보 활용에 유의하기"
   ]
  },
  {
   "cell_type": "code",
   "execution_count": 36,
   "id": "5df88993",
   "metadata": {},
   "outputs": [],
   "source": [
    "# User-Agent를 추가해보자\n",
    "\n",
    "user_agent = {\"User-Agent\": \"Mozilla/5.0 (Macintosh; Intel Mac OS X 10_15_4) AppleWebKit/537.36 (KHTML, like Gecko) Chrome/83.0.4103.97 Safari/537.36\"}"
   ]
  },
  {
   "cell_type": "code",
   "execution_count": 39,
   "id": "22d32116",
   "metadata": {},
   "outputs": [
    {
     "data": {
      "text/plain": [
       "'<!DOCTYPE html>\\n<html lang=\"ko\" xml:lang=\"ko\" xmlns=\"http://www.w3.org/1999/xhtml\">\\n<head>\\n  <meta name=\"viewport\" content=\"width=device-width, initial-scale=1.0, maximum-scale=1.0, user-scalable=no\" '"
      ]
     },
     "execution_count": 39,
     "metadata": {},
     "output_type": "execute_result"
    }
   ],
   "source": [
    "import requests\n",
    "from bs4 import BeautifulSoup\n",
    "\n",
    "# 2번째 인자는 header\n",
    "res = requests.get(\"https://qna.programmers.co.kr/\",  user_agent)# 추가적인 인자 전달\n",
    "res.text[:200]"
   ]
  },
  {
   "cell_type": "code",
   "execution_count": 43,
   "id": "1116d0a6",
   "metadata": {},
   "outputs": [
    {
     "name": "stdout",
     "output_type": "stream",
     "text": [
      "<li class=\"question-list-item\" id=\"question-18265\">\n",
      "<div class=\"question-view-count\">\n",
      "<div class=\"question-number\">24</div>\n",
      "<h6>조회</h6>\n",
      "</div>\n",
      "<div class=\"question-vote-count\" data-id=\"18265\">\n",
      "<div class=\"question-number\">0</div>\n",
      "<h6>좋아요</h6>\n",
      "</div>\n",
      "<div class=\"question-answer-count\" data-id=\"18265\">\n",
      "<div class=\"question-number\">0</div>\n",
      "<h6>답변</h6>\n",
      "</div>\n",
      "<div class=\"question\">\n",
      "<div class=\"top\">\n",
      "<h4><a href=\"/questions/18265/%ED%8C%8C%EC%9D%B4%EC%8D%AC-%ED%94%84%EB%A1%9C%EC%A0%9D%ED%8A%B8-%EC%A4%91-%EC%98%A4%EB%A5%98\">파이썬 프로젝트 중 오류</a></h4>\n",
      "</div>\n",
      "<ul class=\"question-tags\">\n",
      "<li class=\"label label-tag\">\n",
      "<a href=\"/questions/tagged/python\" rel=\"tag\">\n",
      "<span data-tag=\"python\">python</span>\n",
      "</a> </li>\n",
      "</ul>\n",
      "<ul class=\"question-info\">\n",
      "<li class=\"name\"><a href=\"https://community.programmers.co.kr/users/576666/activity\" title=\"s.dr.james601@gmail.com\">s.dr.james601@gmail.com</a></li>\n",
      "<li class=\"time\"><time datetime=\"2023-04-17T00:34:02+09:00\">3일 전</time></li>\n",
      "</ul>\n",
      "</div>\n",
      "</li>\n"
     ]
    }
   ],
   "source": [
    "# 응답을 바탕으로 파싱한다.\n",
    "\n",
    "soup = BeautifulSoup(res.text, \"html.parser\")\n",
    "\n",
    "\n",
    "# h4가 할당된게, 모두 질문에 대한 내용임 -> class를 활용해서 적용해보자!\n",
    "question_list_item = soup.find(\"li\", \"question-list-item\") # 두번째 인자는 class name\n",
    "print(question_list_item)"
   ]
  },
  {
   "cell_type": "code",
   "execution_count": 49,
   "id": "c3985c6f",
   "metadata": {},
   "outputs": [
    {
     "data": {
      "text/plain": [
       "'파이썬 프로젝트 중 오류'"
      ]
     },
     "execution_count": 49,
     "metadata": {},
     "output_type": "execute_result"
    }
   ],
   "source": [
    "soup.find(\"li\",\"question-list-item\").find(\"div\", \"question\").find(\"div\", \"top\").h4.text\n"
   ]
  },
  {
   "cell_type": "code",
   "execution_count": 54,
   "id": "1bf1b7c8",
   "metadata": {},
   "outputs": [
    {
     "name": "stdout",
     "output_type": "stream",
     "text": [
      "파이썬 프로젝트 중 오류\n",
      "구조체 사용하여 다항식의 덧셈 구현하는 문제\n",
      "Fourier transform 된 사진파일의 HPF 코으\n",
      "다시 매개변수화되어야 하는 매개변수화된 메서드 작성\n",
      "파이썬 간단한 별그리기 질문\n",
      "Java 홀수 혹은 짝수의 합 구하는 프로그램 질문\n",
      "c언어 마름모 출력 프로그램\n",
      "컴퓨터 시간을 기준으로 자동으로 그 시간이 되면 제가 설정한 문구를 타이핑 할 수 있게 만드는데 잘 작동하지 않습니다\n",
      "4종류의 강아지를 분류하는 코드로 다람쥐와 청설모를 분류하는 코드를 만들었습니다. 이미지 파일만 다람쥐 파일로 바꿨는데 거의 마지막에 KeyError가 발생.\n",
      "가변인자..... 평균값 아직 초보라 아예 모르겠습니다. 식 알려주시ㅣ면 식으로 공부 하겠습니다 한번만 좀 알려주세요 ㅠㅠㅠ\n",
      "파이썬 가변인자 * 를 사용하는 get_average_score 함수 구현하기\n",
      "판다스 데이터프레임 합치기 질문\n",
      "C언어 헤더파일에서 int& x를 어떻게 사용해야 하는지 모르겠습니다.\n",
      "오브젝트가 오른쪽에 있는지 왼쪽에 있는지 판별\n",
      "Android Java 휴대폰에서 동영상 재생 중 전원을 꺼도 동영상 재생이 일시 중지되지 않습니다.\n",
      "파이썬 반복분 출력\n",
      "자바 기초 코딩 더 깔끔하게 고칠수있을까요?\n",
      "페이징 코드좀 만들어주세요\n",
      "파이썬 코드 질문\n",
      "matplotlib 으로 막대그래프와 선그래프 그리기\n",
      "파이썬 연결 리스트 질문드립니다.\n",
      "공백삭제 관련질문드립니다\n",
      "[Pandas] dataframe for문으로 여러개 만들기.\n",
      "ai와 겨루는 3*3 틱텍토 게임 구현 코드를 짜는 중에 오류가 생겼습니다.\n",
      "GUI 구성 시 엔진 부분과 GUI 부분을 분리하는 철학, 방식, 메소드에 관한 조언 \n",
      "자바 객체선언 오류 질문입니다!\n",
      "파이썬 간단한 코드 질문\n",
      "'''로 주석으로 만들었는데 왜 주석을 지우지 않으면 유니코드오류가 왜 나는지 모르겠어여\n",
      "#define 상수 선언떄\n",
      "우분투 vmware 가상머신 오류\n",
      "파이썬 멀티스레딩 질문\n",
      "파이썬 엑셀 파일 읽기\n",
      "머쓱이 스탬프 할때 답보기요\n",
      "BFS를 사용해도 무관한지 궁금합니다!\n",
      "C# 백준 25206 문제 뭐가 문제인지 확인시켜줄 고수분 \n",
      "python 제너레이터화\n",
      "리액트 쿼리에서 useQuery를 어떻게 사용해야하나요\n",
      "html/javascript 로 node.js통해서 아두이노 통신관련\n",
      "Binary search tree\n",
      "Python 정규표현식을 사용한 패턴 추출\n",
      " code: 'MODULE_NOT_FOUND' 좀 도와주세요\n",
      "파이썬 데이터베이스 저장할때 다른방법없을까요?\n",
      "코딩테스트 첫번째 폰켓몬 문제 왜 맞는건가요?\n",
      "좋아요 한 문제만 따로 볼 수 있나요?\n",
      "멀티프로세싱 프로그램 실행시 수십개의 프로그램이 실행됩니다.\n",
      "c언어 왜 소수점을 넣어야 결과가 나오나\n",
      "HTML 전혀 모르는데요\n",
      "QR코드만 이용해서 앱 개발을 하면 많이 힘들까요?\n",
      "(생초보) 파이썬 *매개변수의 개수\n",
      "로지스틱 회귀\n"
     ]
    }
   ],
   "source": [
    "questions = soup.find_all(\"li\", \"question-list-item\")\n",
    "\n",
    "# 질문의 제목을 scraping\n",
    "for question in questions :\n",
    "    print(question.find(\"div\",\"question\").find(\"div\",\"top\").h4.text)"
   ]
  },
  {
   "cell_type": "markdown",
   "id": "19a05b43",
   "metadata": {},
   "source": [
    "# 페이지는 어떻게 넘어갈까?\n",
    "\n",
    "### 페이지 네이션\n",
    "\n",
    "페이지 네이션을 어떻게 구현하는지 ?\n",
    "-> url로 요청을 줘야 하기 때문에\n",
    "\n",
    "url + ?page=1\n",
    "* querystring"
   ]
  },
  {
   "cell_type": "markdown",
   "id": "a5ea6d35",
   "metadata": {},
   "source": [
    "페이지네이션은 많은 정보를 인덱스로 구분하는 기법\n",
    "우리가 진행하고 있는 사이트는 Query String을 통해 이를 구분한다.\n",
    "\n",
    "`https://hashcode.co.kr/?page={i}`"
   ]
  },
  {
   "cell_type": "code",
   "execution_count": 55,
   "id": "eae9d38e",
   "metadata": {},
   "outputs": [
    {
     "name": "stdout",
     "output_type": "stream",
     "text": [
      "정수를 입력받아 짝수의 합과 홀수의 합을 구하는 프로그램\n",
      "프로그래머스 vim 입력모드->일반모드 전환하는 방법\n",
      "파이썬 프로젝트 중 오류\n",
      "구조체 사용하여 다항식의 덧셈 구현하는 문제\n",
      "Fourier transform 된 사진파일의 HPF 코으\n",
      "다시 매개변수화되어야 하는 매개변수화된 메서드 작성\n",
      "파이썬 간단한 별그리기 질문\n",
      "Java 홀수 혹은 짝수의 합 구하는 프로그램 질문\n",
      "c언어 마름모 출력 프로그램\n",
      "컴퓨터 시간을 기준으로 자동으로 그 시간이 되면 제가 설정한 문구를 타이핑 할 수 있게 만드는데 잘 작동하지 않습니다\n",
      "4종류의 강아지를 분류하는 코드로 다람쥐와 청설모를 분류하는 코드를 만들었습니다. 이미지 파일만 다람쥐 파일로 바꿨는데 거의 마지막에 KeyError가 발생.\n",
      "가변인자..... 평균값 아직 초보라 아예 모르겠습니다. 식 알려주시ㅣ면 식으로 공부 하겠습니다 한번만 좀 알려주세요 ㅠㅠㅠ\n",
      "파이썬 가변인자 * 를 사용하는 get_average_score 함수 구현하기\n",
      "판다스 데이터프레임 합치기 질문\n",
      "C언어 헤더파일에서 int& x를 어떻게 사용해야 하는지 모르겠습니다.\n",
      "오브젝트가 오른쪽에 있는지 왼쪽에 있는지 판별\n",
      "Android Java 휴대폰에서 동영상 재생 중 전원을 꺼도 동영상 재생이 일시 중지되지 않습니다.\n",
      "파이썬 반복분 출력\n",
      "자바 기초 코딩 더 깔끔하게 고칠수있을까요?\n",
      "페이징 코드좀 만들어주세요\n",
      "파이썬 코드 질문\n",
      "matplotlib 으로 막대그래프와 선그래프 그리기\n",
      "파이썬 연결 리스트 질문드립니다.\n",
      "공백삭제 관련질문드립니다\n",
      "[Pandas] dataframe for문으로 여러개 만들기.\n",
      "ai와 겨루는 3*3 틱텍토 게임 구현 코드를 짜는 중에 오류가 생겼습니다.\n",
      "GUI 구성 시 엔진 부분과 GUI 부분을 분리하는 철학, 방식, 메소드에 관한 조언 \n",
      "자바 객체선언 오류 질문입니다!\n",
      "파이썬 간단한 코드 질문\n",
      "'''로 주석으로 만들었는데 왜 주석을 지우지 않으면 유니코드오류가 왜 나는지 모르겠어여\n",
      "#define 상수 선언떄\n",
      "우분투 vmware 가상머신 오류\n",
      "파이썬 멀티스레딩 질문\n",
      "파이썬 엑셀 파일 읽기\n",
      "머쓱이 스탬프 할때 답보기요\n",
      "BFS를 사용해도 무관한지 궁금합니다!\n",
      "C# 백준 25206 문제 뭐가 문제인지 확인시켜줄 고수분 \n",
      "python 제너레이터화\n",
      "리액트 쿼리에서 useQuery를 어떻게 사용해야하나요\n",
      "html/javascript 로 node.js통해서 아두이노 통신관련\n",
      "Binary search tree\n",
      "Python 정규표현식을 사용한 패턴 추출\n",
      " code: 'MODULE_NOT_FOUND' 좀 도와주세요\n",
      "파이썬 데이터베이스 저장할때 다른방법없을까요?\n",
      "코딩테스트 첫번째 폰켓몬 문제 왜 맞는건가요?\n",
      "좋아요 한 문제만 따로 볼 수 있나요?\n",
      "멀티프로세싱 프로그램 실행시 수십개의 프로그램이 실행됩니다.\n",
      "c언어 왜 소수점을 넣어야 결과가 나오나\n",
      "HTML 전혀 모르는데요\n",
      "QR코드만 이용해서 앱 개발을 하면 많이 힘들까요?\n",
      "(생초보) 파이썬 *매개변수의 개수\n",
      "로지스틱 회귀\n",
      "프로그래머스 코딩테스트 2단계 구명보트에서\n",
      "Java 개인 연습 중 배열에서 오류가 났는데 해결 방법을 모르겠습니다.\n",
      "파이썬 csv 파일을 불러와 구분하는 방법에 대해 질문 드립니다\n",
      "다음의 xarray를 어떻게 'time' series로 변형할 수 있는지 여쭈어봅니다.\n",
      "'xlsx' file을 'nc' format으로 변환 후 저장하는 과정에서 계속 에러가 뜹니다..\n",
      "dayArray[dayOfWeek-1]  이건 어떻게 해석하나요?\n",
      "파이썬 클래스 객체 생성에 관한 질문\n",
      "HashMap에서 equals 재정의할때 들어가는 Object가 뭔지좀 가르쳐주세요\n",
      "파이썬 beautifulsoup 텍스트만 출력하기\n",
      "spy++, inspect가 특정 프로그램의 child windows를 불러오지 못하는 거 같습니다\n",
      "[python질문] i for i in range를 처음보는데 질문있습니다..\n",
      "파이썬 웹크롤링 selenium 공부 중인데 계속 타입에러가 떠서 왜 오류가 이렇게 뜨는지 알  수 있을까요ㅠㅠ\n",
      "c언어 코딩테스트 level0 문제 어디가 문제 있나요?\n",
      "한달 째 고민중인 cpp \"char\" 1byte send/receive 코드 질문 드립니다..ㅠㅠ\n",
      "스킬 체크 테스트 Level.2 문제 2 Java 무한루프 문의드립니다.\n",
      "자바스크립트 저장된 파일 제목으로 날짜 뽑는법 질문드립니다.\n",
      "자바스크립트 세션 스토리지에 slider 발류 저장법\n",
      "Regex로 특정 단어부터 empty lines까지 찾는 법\n",
      "TimSort의 단점이 뭘까요?\n",
      "파이썬 BeautifulSoup4 웹크롤링 관련 질문\n",
      "자바스크립트 분수의 덧셈 질문입니다. 뭐가 문제인지 모르겠어요\n",
      "맥에서 터미널을 킬때 이런 문구가 나옵니다\n",
      "파이썬3 2차원배열 입력하기\n",
      "MFC 마우스 이벤트 처리 관련 질문입니다.\n",
      "자바스크립트 질문있습니다.\n",
      "python의 os 모듈의 listdir함수에 대해 질문있습니다\n",
      "AttributeError at /admin/r/31/4/ 'NoneType' object has no attribute 'startswith' \n",
      "id.length==0 || id==\"\" 둘다 같은의미아닌가요?\n",
      "자바 iterator 질문이요 \n",
      "파이썬 Django 질문이욧!!!\n",
      "javascript 의 재귀함수 문제\n",
      "c++ class 동적할당 배열 생성자\n",
      "스프링 배치 writer 질문\n",
      "C++ STRCAT 구현부분 질문\n",
      "파이썬 모듈 설치 하기\n",
      "[python3] Lv.1 신고 결과 받기 / 접근 방식 및 딕셔너리 값 관련 문제해결\n",
      "동적배열을 이렇게 선언하면 안되는 이유가 있나요?\n",
      "qt 디자이너 사용해서 프린터와 pdf 저장하기 작성중입니다. 출력시 에러가 발생됩니다.메인 윈도우 창 전체를 프린터 및 pdf로 저장하고 싶습니다.\n",
      "Q&A 게시판 내 작성글 보기\n",
      "서블릿 response관련 기초적인 질문할께요ㅠ\n",
      "[코틀린] private 질문\n",
      "live server 에서는 사진이 나오는데 Netlify로 사이트를 만들면 거기서는 사진이 안나와요\n",
      "자바 코드 관련하여 질문드립니다\n",
      "파이썬으로 서로 다른 두 데이터를 매칭하려 하는데 어떤 방법을 이용해야할지 좋을지 모르겠어요\n",
      "영상을 프레임별 이미지로 변환\n",
      "scanf_s와 switch-case문 오류\n",
      "라즈베리파이에서 사진 캡쳐 후 저장하는 코드를 짰는데 넘버링을 하고 싶습니다.\n",
      "hide(), show() 가 동기적으로 작동하지 않는데 문제점을 모르겠습니다.\n",
      "[VB.NET] POST 방식의 HTTPS 통신 시 에러 문제점\n",
      "자료구조 다항식의 덧셈을 자바로 바꾸는 문제. delTerm 같은 함수들 활용법\n",
      "c언어 간단한 문제 질문 儆儆儆儆儆\n",
      "아코디언 갤러리를 구현하려고 합니다. \n",
      "파이썬 openpyxl 값 좌표 찾는 방법\n",
      "for문을 이용한 json 배열 배치하는 테이블 생성 \n",
      "판다스 read_excel() 소수점 질문\n",
      "c언어로 마방진 짜는 코드 질문이요\n",
      "파이썬 장고(django) 프레임웍 환경에서 자동 로그인 구현하는 방법?\n",
      "파이썬 타이머 버튼이 눌렸을 때 시간이 멈추도록\n",
      "고수님들 파이썬 엑셀파일 만드는 코드좀 부탁드립니다\n",
      "sql 쿼리 : 특정 카테고리 직전 및 직후 구매한 카테고리\n",
      "overfitting 및 예측 data augmentation \n",
      "[판다스] 원천 데이터 프레임의 <>안의 문자만 뽑아 새로운 데이터 프레임 생성\n",
      "파이선 체크박스 저장 & 불러오기 질문\n",
      "파이썬 버블정렬구현\n",
      "dijkstra 최단경로\n",
      "파이썬 이진탐색트리\n",
      "[파이썬] 판다스 중복 컬럼 찾기\n",
      "과제요청 삭제 코딩 왕초보 입니다.... for문과 인덱싱을 활용한 딕셔너리 출력\n",
      "python -m pip install pyautogui 안되는데 이거 왜 그런건가요.\n",
      " linearmodels install 질문\n",
      "컴파일 후 에러 발생\n",
      "pygame 딜레이\n",
      "c언어 파일 출력시 儆儆이러한 문자가 뜨는 이유가 뭔가요?\n",
      "리눅스 아니면 아이텀2에서 fxml파일을 만들려고 하는데\n",
      "html class 선언 코드 질문\n",
      "터미널 alias 등록\n",
      "파이썬 len(str([2,4])) 이 왜 6인가요?\n",
      "folium marker끼리 연결\n",
      "자바 랜덤으로 1~6사이의 난수를 뽑는데 2,3,6만 뽑고싶습니다. 이럴땐 어떻게 코딩하나요?\n",
      "파이선 데이터 저장 / 불러오기\n",
      "c언어 질문드립니다.\n",
      "Wamp 설치오류 도와주세요 ㅜ\n",
      "Location values cannot contain NaNs. \n",
      "(심사 중)이라는 메시지는 어떤 절차가 있다는 걸까요?\n",
      "PG결제 연동시 발생하는 보안이슈 문제질문드립니다.\n",
      "입력한 위도와 경도와 csv 파일 내에 있는 위도와 경도 중 가장 가까운 위치 값 찾기\n",
      "연결리스트 동적할당 알려주세요\n",
      "100일 뒤 기념일 프로그램 코드좀 알려주세요 ㅠㅠ-ㅠ\n",
      "영어단어 추출관련 코드 수정 문의\n",
      "CefSharp에서 WebRTC 사용 시 발생하는 문제\n",
      "colab list안에 있는 요소 옮기기\n",
      "bow_vect = vect.fit_transform 부분 오류가 나서 질문드립니다.\n",
      "파이썬 BoW 벡터 진행 중 오류가 나서 질문 드립니다.\n",
      "ejs에서 실시간으로 db의 데이터를 가져오는 방법이 있을까요??\n",
      "254개 - 248개 매칭 알고르짐에 관한 의견 구합니다. \n",
      "c언어 텍스트 파일\n",
      "if문 사용해서 8개의 패턴을 모두 프린트 하기\n",
      "없는 자료에 대한 크롤링 처리\n",
      "VSC 포맷터 Prettier 사용중인데 이 빨간색을 어떻게 없애나요?\n",
      "파이썬 openpyxl 관련 질문\n",
      "이 코드에서 뭐가 생성자인가요?\n",
      "pyinstaller로 실행파일 만들 때 그 안에 임포트된 직접 만든 라이브러리 계속 업데이트 할 수 있을까요?\n",
      "이 코딩 인수목록이 일치하지 않다는게 무슨말인가요?\n",
      "C언어 scanf로 수식을 입력받는 방법\n",
      "linux환경 c언어 프로세스 또는 쓰레드 종료 여부를 확인할 수 있는 방법이 궁금합니다\n",
      "재귀구현(리커시브)을 사용해서 메소드 구현하기\n",
      "vscode에서 코드 색이 풀립니다.\n",
      "거북이게임 목숨 추가\n",
      "판다스 데이터프레임 열로 나열된 Group을 기준으로 각 항목의  Pair를 만들고 싶습니다 \n",
      "파이썬 클래스 상속 관련 질문입니다!\n",
      "데이터프레임에서 전체 값이 0인 컬럼을 삭제하고싶습니다.\n",
      "동적 게시판 생성시 테이블 설계 방법 문의\n",
      "JAVA GUI로 사거리 신호등 어떻게 구현하나요?\n",
      "회원아이디가 텍스트에 나오게 하는것\n",
      "파이썬 tkinter 중 dictionary\n",
      "화면의 숫자 이미지를 읽어서 숫자 문자로 전환하는 코드가 있을까요?\n",
      "파이썬 코드 질문입니다\n",
      "run 메소드 안에 loadPage 메소드 실행 시키는 방법이 궁금해요\n",
      "[ vue.js ] forEach문에서 store.dispatch를 통한 API 통신 시 에러 문제점\n",
      "유닉스를 이용한 C 질문 argv\n",
      "PLC 통신값 엑셀저장시 저장값에 L이 붙어서 저장되는데 해결방법 문의\n",
      "c언어 2차원 배열로 홀짝 구분하는 문제 EXC_BAD_ACCESS (code=1, address=0x0)\n",
      "random 함수 import 가 되지 않습니다\n",
      "파이썬 logging 라이브러리 setLevel이 잘 안 됩니다\n",
      "c언어 반복문과 scanf 에러문제 \n",
      "안녕하세요 GUI 이벤트 질문 드립니다\n",
      "코틀린 api\n",
      "keras model shapes 관련 에러\n",
      "C# Winform 입력값 출력 변환\n",
      "사내용 프로그램의 테스트 단계 용어\n",
      "filter() 함수\n",
      "StringBuilder를 비우거나 청소하려면 어떻게 해야 합니까?\n",
      "(python) round 함수 알고리즘 재창조. 소숫점 아래에서의 반올림.\n",
      "(python) abs 함수 다시 만들기 질문\n",
      "c++ 동적 메모리 할당 질문 \n",
      "파이썬 클래스 메소드 질문\n",
      "리스트 내 최대값 구하기 코딩이 기대한 대로 작동하지 않음\n",
      "리스트를 사용하여 이름, 학번, 성적을 입력 받아 학점을 계산할 수 있도록 하기\n",
      "c언어 영상처리\n",
      "파이썬 next(data)가 안돼요...\n",
      "(정보추가) 카카오 웹툰 뷰 화면에서 이미지 가져와서 저장하는 방법 질문입니다.\n",
      "parse tree를 통해 postfix expression을 구하고 싶습니다\n",
      "파이썬 디스코드 봇 관련 질문입니다\n",
      "코드 중복제거\n",
      "페이지 이동 직후 :hover가 적용되지 않습니다.\n",
      "dtype 뷰로 타입변환했을때 요소의 갯수가 바뀌는 이유가모르겠어요\n",
      "opencv c++ 질문입니다 움직이는 영상에 맞춰 표시를 해주려하는데 영상재생이안되네여\n",
      "paramiko 질문\n",
      "2차원 배열 append\n",
      "뭔지는 모르는데 이런게 있는지 궁금합니다. 이미 정의된 함수에 추가적으로 변수를 추가하기.\n",
      "c scanf; 다 잘했는데 c6328 오류 뜹니다. \n",
      "C언어 포인터 : 왜오류인지 모르겠습니다\n",
      "(c언어) 숫자세기 질문 (++) printf문장 밖에 cnt++;로 지정한 경우와 printf(\"%d\",cnt++)경우 결과가 다르게 나옵니다.\n",
      "pandas 데이터프레임 내용 수정을 위한 for 문 코드 작성\n",
      "학교 정보 수행평가에 도움이 필요합니다.\n",
      "파이썬 겹치는 구간의 길이(중심점, 길이)\n",
      "파이썬 문자열데이터 압축하기 질문(2번이하로 반복되는 문자열)\n",
      "파이썬 중복값 비교\n",
      "파이썬 오류 질문 TypeError: 'builtin_function_or_method' object is not subscriptable\n",
      "아나콘다 설치 시 자동으로 설치되는 스파이더와 스탠드얼론으로 설치하는 스파이더의 차이가 있나요?\n",
      "혹시 특정 event 전까지 대기하라는 로직(?)에 대해 조언 부탁드려도 될까요?\n",
      "c언어 : 100단위가 넘을 때마다 계속할지말지\n",
      "(c언어) 제가 짠 코딩을 간략하게 줄일 방법이 있을까요?\n",
      "beautifulsoup 질문!\n",
      "inport error \n",
      "데이터 크롤링 질문입니다!\n",
      "c언어 질문입니다.\n",
      "(c언어) char 문자 중복 적용오류 질문있습니다.\n",
      "java JPanel에 그린 사각형을 저장하거나 저장한 파일을 불러오고 싶어요\n",
      "Python 갑자기 웹스크래핑 사이트에서 거부\n",
      "숙제풀이요청 삭제 파이썬 반복문 질문입니다. \n",
      "(C언어) while 사용시 printf 위치질문이 있습니다.\n",
      "파이썬 문자열 순서 정렬\n",
      "Raspberry Pi 세그먼트 표현 질문입니다!!\n",
      "코테할 때, java library 사용 관련해서 질문드립니다.\n",
      "nested dict+list, 재귀호출 관련\n",
      "python daframe 간 join 시에 동일한 key값 말고, 포함관계인 key값을 매칭시킬 수 있을까요?\n",
      "mips 어셈블리어 재귀함수 오류 \n",
      "파이썬 엑셀작업관련 도움 부탁드립니다.\n",
      "파이썬 Random Walks 질문\n",
      "파이썬 문제 풀이 부탁드립니다. ㅜㅜ 어렵네요\n",
      "파이썬 입력 관련 질문\n",
      "다른 js파일에 있는 변수 사용을 위해 export, import를 넣었는데 웹페이지에 오류가 났어요\n",
      "Visual studio 에서 Ctrl+ F5(컴파일)\n",
      "href=\"#section_27\">제목</a>   여기서 #을 통해서 경로설정되는거는 어떻게 하는건가요?\n",
      "기초 파이썬(python) 질문드립니다!!!\n",
      "파이썬 팬시 색인\n",
      "for에서 while\n",
      "장바구니 수량 문제입니다.\n",
      "zip 파일 암호화 및 평문화 기법 공부까지 가는 경로\n",
      "파이썬 코테문제 질문\n",
      "클래스 기본 질문입니다.\n",
      "__init__메서드에 관한 질문\n",
      "바이트 크기와 seek , read 메소드\n",
      "heapsort 관련해서 문자열 스왑해서 출력하려고하는데 오류가 나요\n",
      "연결리스트 도와주세요!!\n",
      "format 으로 원하는 형태의 출력 만들기\n",
      "자바 은행 입금 클래스\n"
     ]
    }
   ],
   "source": [
    "# Pagenation이 되어있는 질문 리스트의 제목을 모두 가져온다\n",
    "# 과도한 요청을 방지하기 위해 1초마다 요청을 보낸다.\n",
    "\n",
    "import time\n",
    "\n",
    "# 5페이지까지의 정보만 가져오기 때문\n",
    "for i in range(1, 6) :\n",
    "    res = requests.get(f\"https://qna.programmers.co.kr/?page={i}\",  user_agent)\n",
    "    soup = BeautifulSoup(res.text, \"html.parser\")\n",
    "    \n",
    "    \n",
    "    questions = soup.find_all(\"li\", \"question-list-item\")\n",
    "    for question in questions :\n",
    "        \n",
    "        print(question.find(\"div\", \"question\").find(\"div\", \"top\").h4.text)\n",
    "    \n",
    "        \n",
    "    # 요청이 너무 빨리 갈 수 있으므로 time.sleep을 통해 지연 설정\n",
    "    time.sleep(0.5)"
   ]
  }
 ],
 "metadata": {
  "kernelspec": {
   "display_name": "Python 3 (ipykernel)",
   "language": "python",
   "name": "python3"
  },
  "language_info": {
   "codemirror_mode": {
    "name": "ipython",
    "version": 3
   },
   "file_extension": ".py",
   "mimetype": "text/x-python",
   "name": "python",
   "nbconvert_exporter": "python",
   "pygments_lexer": "ipython3",
   "version": "3.9.13"
  }
 },
 "nbformat": 4,
 "nbformat_minor": 5
}
