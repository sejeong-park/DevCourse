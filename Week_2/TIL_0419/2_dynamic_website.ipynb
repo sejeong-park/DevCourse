{
 "cells": [
  {
   "cell_type": "markdown",
   "id": "d7101ff7",
   "metadata": {},
   "source": [
    "## 정적웹 사이트와 동적 웹사이트\n",
    "\n",
    "\n",
    "* 정적(static) 웹 사이트 : HTML 내용이 고정된 것 : 같은 주소 & 같은 응답\n",
    "    * html 문서가 완전하게 응답한다.\n",
    "* 동적(dynamic) 웹 사이트 : HTML 내용이 변하는 것\n",
    "    * 응답 후 HTML이 렌더링이 될 때까지 **지연시간**이 존재\n",
    "    * requests를 보낸 후에 바로 파싱 하면 안돼 & 구조가 바뀔 수 있다."
   ]
  },
  {
   "cell_type": "markdown",
   "id": "6e07b4ac",
   "metadata": {},
   "source": [
    "### 동적 웹 사이트의 동작 방식\n",
    "\n",
    "* 웹 브라우저에선 JavaScript라는 프로그래밍 언어가 동작한다.\n",
    "* **비동기 처리**를 통해서 필요한 데이터를 채운다\n",
    "\n",
    "* 동기 처리 : 요청에 따른 응답을 기다린다.\n",
    "    * 렌더링과 데이터 처리 : 렌더링을 다 해야만 데이터 처리를 진행하는 !\n",
    "    * 동기 처리된 후, HTML 로딩에 문제가 발생하지 않는다.\n",
    "    \n",
    "* 비동기 처리 : 요청에 따른 응답을 기다리지 않는다.\n",
    "    * 렌더링을 시켜놓고 데이터 처리를 하는 ! (기다리지 않는다.)\n",
    "    * 상황에 따라서 데이터가 완전하지 않은 경우가 발생한다.\n",
    "    \n",
    "    \n",
    "### 현재까지 스크래퍼의 문제점\n",
    "* 비동기 처리 시, 요청에 따른 **불완전한 응답**을 받을 수 있음\n",
    "* 키보드 입력, 마우스 클릭 (입력) 등 requests로는 진행하기 어렵다.\n",
    "\n",
    "### 어떻게 해결할 수 있을까?\n",
    "\n",
    "비동기 상황에서 데이터가 불완전하다면?\n",
    "* 임의로 시간을 지연한 후, 데이터 처리가 끝난 후 정보를 가져오면 된다. \n",
    "\n",
    "키보드 입력, 마우스 클릭 등을 프로그래밍할 순 없을까? (UI Action)\n",
    "* 응답이 온 후에 요소들에 접근하는 환경\n",
    "\n",
    "- 웹 브라우저를 파이썬으로 조작하자!!!\n",
    "- 웹 브라우저를 자동화하는 라이브러리 : Selenium\n",
    "\n",
    "응답 후 시간을 지연시킬 수 있다.\n"
   ]
  },
  {
   "cell_type": "code",
   "execution_count": 1,
   "id": "552bf877",
   "metadata": {},
   "outputs": [
    {
     "ename": "ModuleNotFoundError",
     "evalue": "No module named 'selenium'",
     "output_type": "error",
     "traceback": [
      "\u001b[0;31m---------------------------------------------------------------------------\u001b[0m",
      "\u001b[0;31mModuleNotFoundError\u001b[0m                       Traceback (most recent call last)",
      "\u001b[0;32m/var/folders/sn/_dmsv20d3wn6mmvkzncylwnr0000gn/T/ipykernel_71384/2198375066.py\u001b[0m in \u001b[0;36m<module>\u001b[0;34m\u001b[0m\n\u001b[0;32m----> 1\u001b[0;31m \u001b[0;32mfrom\u001b[0m \u001b[0mselenium\u001b[0m \u001b[0;32mimport\u001b[0m \u001b[0mwebdriver\u001b[0m\u001b[0;34m\u001b[0m\u001b[0;34m\u001b[0m\u001b[0m\n\u001b[0m\u001b[1;32m      2\u001b[0m \u001b[0;34m\u001b[0m\u001b[0m\n\u001b[1;32m      3\u001b[0m \u001b[0mdriver\u001b[0m \u001b[0;34m=\u001b[0m \u001b[0mwebdriver\u001b[0m\u001b[0;34m.\u001b[0m\u001b[0mChrome\u001b[0m\u001b[0;34m(\u001b[0m\u001b[0;34m)\u001b[0m\u001b[0;34m\u001b[0m\u001b[0;34m\u001b[0m\u001b[0m\n\u001b[1;32m      4\u001b[0m \u001b[0mdriver\u001b[0m\u001b[0;34m.\u001b[0m\u001b[0mimplicitly_wait\u001b[0m\u001b[0;34m(\u001b[0m\u001b[0;36m10\u001b[0m\u001b[0;34m)\u001b[0m\u001b[0;34m\u001b[0m\u001b[0;34m\u001b[0m\u001b[0m\n\u001b[1;32m      5\u001b[0m \u001b[0mdriver\u001b[0m\u001b[0;34m.\u001b[0m\u001b[0mget\u001b[0m\u001b[0;34m(\u001b[0m\u001b[0;34m\"http://www.example.com\"\u001b[0m\u001b[0;34m)\u001b[0m\u001b[0;34m\u001b[0m\u001b[0;34m\u001b[0m\u001b[0m\n",
      "\u001b[0;31mModuleNotFoundError\u001b[0m: No module named 'selenium'"
     ]
    }
   ],
   "source": [
    "from selenium import webdriver\n",
    "\n",
    "driver = webdriver.Chrome()\n",
    "driver.implicitly_wait(10)\n",
    "driver.get(\"http://www.example.com\")\n",
    "\n",
    "elem = driver.find_element_by_tag_name(\"hello-input\")\n",
    "elem.send_keys(\"Hello!\") # UI와 상호작용이 가능하다."
   ]
  },
  {
   "cell_type": "markdown",
   "id": "163ef3ff",
   "metadata": {},
   "source": [
    "* 동적 웹사이트는 응답 후 바로 정보를 추출하기 어렵다.\n",
    "* 또한, 다양한 키보드 입력과 마우스 클릭 등의 상호작용이 존재한다.\n",
    "* 이런 상황을 해결하기 위해, 웹 브라우저를 파이썬으로 조작하는 전략"
   ]
  }
 ],
 "metadata": {
  "kernelspec": {
   "display_name": "Python 3 (ipykernel)",
   "language": "python",
   "name": "python3"
  },
  "language_info": {
   "codemirror_mode": {
    "name": "ipython",
    "version": 3
   },
   "file_extension": ".py",
   "mimetype": "text/x-python",
   "name": "python",
   "nbconvert_exporter": "python",
   "pygments_lexer": "ipython3",
   "version": "3.9.13"
  }
 },
 "nbformat": 4,
 "nbformat_minor": 5
}
